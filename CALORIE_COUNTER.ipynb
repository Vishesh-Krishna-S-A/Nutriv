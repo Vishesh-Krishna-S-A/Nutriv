{
 "cells": [
  {
   "cell_type": "code",
   "execution_count": 23,
   "id": "d5677f3c",
   "metadata": {},
   "outputs": [
    {
     "name": "stdout",
     "output_type": "stream",
     "text": [
      "What is your name?\n",
      "bjhv\n",
      "bjhv\n"
     ]
    }
   ],
   "source": [
    "name = input('What is your name?\\n')\n",
    "print(name)"
   ]
  },
  {
   "cell_type": "code",
   "execution_count": 32,
   "id": "76b096b5",
   "metadata": {},
   "outputs": [],
   "source": [
    "def count():\n",
    "    age = float(input('Age:\\n'))\n",
    "    weight = float(input('Weight:\\n'))\n",
    "    height = float(input('Height:\\n'))\n",
    "    Calories = (10*weight) + (6.25*height) - (5*age) + 5\n",
    "    print('Required calories without exercise:', (Calories+350),' to ', (Calories+550),'kcal')"
   ]
  },
  {
   "cell_type": "code",
   "execution_count": 33,
   "id": "eb2660a0",
   "metadata": {},
   "outputs": [
    {
     "name": "stdout",
     "output_type": "stream",
     "text": [
      "Age:\n",
      "18\n",
      "Weight:\n",
      "75\n",
      "Height:\n",
      "180\n",
      "Required calories without exercise: 2140.0  to  2340.0 kcal\n"
     ]
    }
   ],
   "source": [
    "count()"
   ]
  },
  {
   "cell_type": "code",
   "execution_count": 34,
   "id": "959999d8",
   "metadata": {},
   "outputs": [
    {
     "name": "stdout",
     "output_type": "stream",
     "text": [
      "Age:\n",
      "20\n",
      "Weight:\n",
      "80\n",
      "Height:\n",
      "180\n",
      "Required calories without exercise: 2180.0  to  2380.0 kcal\n"
     ]
    }
   ],
   "source": [
    "count()"
   ]
  },
  {
   "cell_type": "code",
   "execution_count": null,
   "id": "c01fe28a",
   "metadata": {},
   "outputs": [],
   "source": []
  },
  {
   "cell_type": "code",
   "execution_count": null,
   "id": "0878a63b",
   "metadata": {},
   "outputs": [],
   "source": []
  }
 ],
 "metadata": {
  "kernelspec": {
   "display_name": "Python 3 (ipykernel)",
   "language": "python",
   "name": "python3"
  },
  "language_info": {
   "codemirror_mode": {
    "name": "ipython",
    "version": 3
   },
   "file_extension": ".py",
   "mimetype": "text/x-python",
   "name": "python",
   "nbconvert_exporter": "python",
   "pygments_lexer": "ipython3",
   "version": "3.9.7"
  }
 },
 "nbformat": 4,
 "nbformat_minor": 5
}
