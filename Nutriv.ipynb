{
  "nbformat": 4,
  "nbformat_minor": 0,
  "metadata": {
    "colab": {
      "provenance": [],
      "include_colab_link": true
    },
    "kernelspec": {
      "name": "python3",
      "display_name": "Python 3"
    },
    "language_info": {
      "name": "python"
    }
  },
  "cells": [
    {
      "cell_type": "markdown",
      "metadata": {
        "id": "view-in-github",
        "colab_type": "text"
      },
      "source": [
        "<a href=\"https://colab.research.google.com/github/Vishesh-Krishna-S-A/Nutriv/blob/main/Nutriv.ipynb\" target=\"_parent\"><img src=\"https://colab.research.google.com/assets/colab-badge.svg\" alt=\"Open In Colab\"/></a>"
      ]
    },
    {
      "cell_type": "markdown",
      "source": [
        "# Nutriv Project"
      ],
      "metadata": {
        "id": "1vZGHl0AOsNs"
      }
    },
    {
      "cell_type": "code",
      "source": [
        "import numpy as np\n",
        "import pandas as pd"
      ],
      "metadata": {
        "id": "1G6xdSWQnMWi"
      },
      "execution_count": null,
      "outputs": []
    },
    {
      "cell_type": "markdown",
      "source": [
        "## Importing the dataset"
      ],
      "metadata": {
        "id": "A2G2kgcqps2e"
      }
    },
    {
      "cell_type": "code",
      "source": [
        "recipes = pd.read_csv('epi_r.csv')\n",
        "X = recipes.iloc[:, 2:].values\n",
        "y = recipes.iloc[:, 0].values"
      ],
      "metadata": {
        "id": "oX-qLSCVpzhy"
      },
      "execution_count": null,
      "outputs": []
    },
    {
      "cell_type": "code",
      "source": [
        "print(X)"
      ],
      "metadata": {
        "colab": {
          "base_uri": "https://localhost:8080/"
        },
        "id": "lfm8HcvKsID0",
        "outputId": "35e4156c-cf4b-4fad-df68-de40539900ae"
      },
      "execution_count": null,
      "outputs": [
        {
          "output_type": "stream",
          "name": "stdout",
          "text": [
            "[[4.260e+02 3.000e+01 7.000e+00 ... 0.000e+00 0.000e+00 1.000e+00]\n",
            " [4.030e+02 1.800e+01 2.300e+01 ... 0.000e+00 0.000e+00 0.000e+00]\n",
            " [1.650e+02 6.000e+00 7.000e+00 ... 0.000e+00 0.000e+00 0.000e+00]\n",
            " ...\n",
            " [1.990e+02 3.000e+00 2.100e+01 ... 0.000e+00 0.000e+00 0.000e+00]\n",
            " [1.466e+03 1.200e+01 1.000e+02 ... 0.000e+00 0.000e+00 0.000e+00]\n",
            " [2.470e+02 1.000e+00 2.600e+01 ...       nan       nan       nan]]\n"
          ]
        }
      ]
    },
    {
      "cell_type": "code",
      "source": [
        "print(y)"
      ],
      "metadata": {
        "colab": {
          "base_uri": "https://localhost:8080/"
        },
        "id": "HVbGl5w3sJhX",
        "outputId": "609ac2e6-38c0-47d4-db8e-59e9eb89ab54"
      },
      "execution_count": null,
      "outputs": [
        {
          "output_type": "stream",
          "name": "stdout",
          "text": [
            "['Lentil, Apple, and Turkey Wrap '\n",
            " 'Boudin Blanc Terrine with Red Onion Confit '\n",
            " 'Potato and Fennel Soup Hodge ' ... 'Almond Brown Butter '\n",
            " 'Spiced Chocolate Torte Wrapped in Chocolate Ribbons ' 'Herbed Olives ']\n"
          ]
        }
      ]
    },
    {
      "cell_type": "markdown",
      "source": [
        "## Filtering based on Calories and Type of food"
      ],
      "metadata": {
        "id": "Bt2H24JL3EuD"
      }
    },
    {
      "cell_type": "code",
      "source": [
        "def filter_by_cal(df, min_calories, max_calories):\n",
        "    return df[(df['calories'] >= min_calories) & (df['calories'] <= max_calories) & (df['breakfast'] >= 1)]\n",
        "\n",
        "filter_C =filter_by_cal(recipes, 400, 600)\n",
        "recommended_recipe = filter_C.sample(n=2)\n",
        "\n",
        "# Step 5: Print out the recommended recipes\n",
        "print(recommended_recipe.loc[:, 'title':'breakfast'])"
      ],
      "metadata": {
        "colab": {
          "base_uri": "https://localhost:8080/"
        },
        "id": "5tphl0Nj15vc",
        "outputId": "3fd0d678-18b5-4960-b13d-0eb6450d2c62"
      },
      "execution_count": null,
      "outputs": [
        {
          "output_type": "stream",
          "name": "stdout",
          "text": [
            "                                         title  rating  calories  protein  \\\n",
            "15282  Sausage and Potato Breakfast Casserole    4.375     421.0     21.0   \n",
            "13216                   Spiced Nectarine Cake    4.375     499.0      9.0   \n",
            "\n",
            "        fat  sodium  #cakeweek  #wasteless  22-minute meals  \\\n",
            "15282  29.0   743.0          0           0                0   \n",
            "13216  14.0   253.0          0           0                0   \n",
            "\n",
            "       3-ingredient recipes  ...  bon appétit  bon app��tit  boston  bourbon  \\\n",
            "15282                     0  ...            1             0       0        0   \n",
            "13216                     0  ...            1             0       0        0   \n",
            "\n",
            "       braise  bran  brandy  bread  breadcrumbs  breakfast  \n",
            "15282       0     0       0      0            0          1  \n",
            "13216       0     0       0      0            0          1  \n",
            "\n",
            "[2 rows x 73 columns]\n"
          ]
        }
      ]
    },
    {
      "cell_type": "code",
      "source": [
        "print('vishesh')"
      ],
      "metadata": {
        "colab": {
          "base_uri": "https://localhost:8080/"
        },
        "id": "GCwHkqzE51i3",
        "outputId": "290d4bc0-2809-411f-e2be-72e8970fac18"
      },
      "execution_count": 1,
      "outputs": [
        {
          "output_type": "stream",
          "name": "stdout",
          "text": [
            "vishesh\n"
          ]
        }
      ]
    },
    {
      "cell_type": "code",
      "source": [
        "print('vishal')"
      ],
      "metadata": {
        "id": "oEuSKWpV6u3o",
        "outputId": "cce519e9-d422-4981-b441-5565038e0777",
        "colab": {
          "base_uri": "https://localhost:8080/"
        }
      },
      "execution_count": 2,
      "outputs": [
        {
          "output_type": "stream",
          "name": "stdout",
          "text": [
            "vishal\n"
          ]
        }
      ]
    },
    {
      "cell_type": "code",
      "source": [],
      "metadata": {
        "id": "PrdezPMu6xWG"
      },
      "execution_count": null,
      "outputs": []
    }
  ]
}