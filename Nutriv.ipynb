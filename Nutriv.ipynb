{
  "nbformat": 4,
  "nbformat_minor": 0,
  "metadata": {
    "colab": {
      "provenance": [],
      "include_colab_link": true
    },
    "kernelspec": {
      "name": "python3",
      "display_name": "Python 3"
    },
    "language_info": {
      "name": "python"
    }
  },
  "cells": [
    {
      "cell_type": "markdown",
      "metadata": {
        "id": "view-in-github",
        "colab_type": "text"
      },
      "source": [
        "<a href=\"https://colab.research.google.com/github/Vishesh-Krishna-S-A/Nutriv/blob/main/Nutriv.ipynb\" target=\"_parent\"><img src=\"https://colab.research.google.com/assets/colab-badge.svg\" alt=\"Open In Colab\"/></a>"
      ]
    },
    {
      "cell_type": "markdown",
      "source": [
        "# Nutriv Project"
      ],
      "metadata": {
        "id": "1vZGHl0AOsNs"
      }
    },
    {
      "cell_type": "code",
      "source": [
        "import numpy as np\n",
        "import pandas as pd"
      ],
      "metadata": {
        "id": "1G6xdSWQnMWi"
      },
      "execution_count": null,
      "outputs": []
    },
    {
      "cell_type": "markdown",
      "source": [
        "## Importing the dataset"
      ],
      "metadata": {
        "id": "A2G2kgcqps2e"
      }
    },
    {
      "cell_type": "code",
      "source": [
        "recipes = pd.read_csv('epi_r.csv')\n",
        "X = recipes.iloc[:, 2:].values\n",
        "y = recipes.iloc[:, 0].values"
      ],
      "metadata": {
        "id": "oX-qLSCVpzhy"
      },
      "execution_count": null,
      "outputs": []
    },
    {
      "cell_type": "code",
      "source": [
        "print(X)"
      ],
      "metadata": {
        "colab": {
          "base_uri": "https://localhost:8080/"
        },
        "id": "lfm8HcvKsID0",
        "outputId": "35e4156c-cf4b-4fad-df68-de40539900ae"
      },
      "execution_count": null,
      "outputs": [
        {
          "output_type": "stream",
          "name": "stdout",
          "text": [
            "[[4.260e+02 3.000e+01 7.000e+00 ... 0.000e+00 0.000e+00 1.000e+00]\n",
            " [4.030e+02 1.800e+01 2.300e+01 ... 0.000e+00 0.000e+00 0.000e+00]\n",
            " [1.650e+02 6.000e+00 7.000e+00 ... 0.000e+00 0.000e+00 0.000e+00]\n",
            " ...\n",
            " [1.990e+02 3.000e+00 2.100e+01 ... 0.000e+00 0.000e+00 0.000e+00]\n",
            " [1.466e+03 1.200e+01 1.000e+02 ... 0.000e+00 0.000e+00 0.000e+00]\n",
            " [2.470e+02 1.000e+00 2.600e+01 ...       nan       nan       nan]]\n"
          ]
        }
      ]
    },
    {
      "cell_type": "code",
      "source": [
        "print(y)"
      ],
      "metadata": {
        "colab": {
          "base_uri": "https://localhost:8080/"
        },
        "id": "HVbGl5w3sJhX",
        "outputId": "609ac2e6-38c0-47d4-db8e-59e9eb89ab54"
      },
      "execution_count": null,
      "outputs": [
        {
          "output_type": "stream",
          "name": "stdout",
          "text": [
            "['Lentil, Apple, and Turkey Wrap '\n",
            " 'Boudin Blanc Terrine with Red Onion Confit '\n",
            " 'Potato and Fennel Soup Hodge ' ... 'Almond Brown Butter '\n",
            " 'Spiced Chocolate Torte Wrapped in Chocolate Ribbons ' 'Herbed Olives ']\n"
          ]
        }
      ]
    },
    {
      "cell_type": "markdown",
      "source": [
        "## Filtering based on Calories and Type of food"
      ],
      "metadata": {
        "id": "Bt2H24JL3EuD"
      }
    },
    {
      "cell_type": "code",
      "source": [
        "recipes = pd.read_csv('Nutriv.csv')\n",
        "def filter_by_cal(df, min_calories, max_calories):\n",
        "    return df[(df['calories'] >= min_calories) & (df['calories'] <= max_calories) & (df['breakfast'] >= 1)]\n",
        "\n",
        "filter_C =filter_by_cal(recipes, 400, 600)\n",
        "recommended_recipe = filter_C.sample(n=2)\n",
        "\n",
        "# Step 5: Print out the recommended recipes\n",
        "print(recommended_recipe.loc[:, 'title':'breakfast'])"
      ],
      "metadata": {
        "colab": {
          "base_uri": "https://localhost:8080/"
        },
        "id": "5tphl0Nj15vc",
        "outputId": "10a98776-9f34-454e-e116-fc6b70297b98"
      },
      "execution_count": null,
      "outputs": [
        {
          "output_type": "stream",
          "name": "stdout",
          "text": [
            "                                                   title  calories  protein  \\\n",
            "6018   Super Green Smoothie Bowl With Matcha and Ginger      505.0     10.0   \n",
            "17508                Egg and Avocado Breakfast Sandwich      445.0     17.0   \n",
            "\n",
            "        fat  sodium  #cakeweek  #wasteless  22-minute meals  \\\n",
            "6018   39.0    34.0          0           0                0   \n",
            "17508  24.0   449.0          0           0                0   \n",
            "\n",
            "       3-ingredient recipes  30 days of groceries  ...  bon appétit  \\\n",
            "6018                      0                     0  ...            0   \n",
            "17508                     0                     0  ...            1   \n",
            "\n",
            "       bon app��tit  boston  bourbon  braise  bran  brandy  bread  \\\n",
            "6018              0       0        0       0     0       0      0   \n",
            "17508             0       0        0       0     0       0      0   \n",
            "\n",
            "       breadcrumbs  breakfast  \n",
            "6018             0          1  \n",
            "17508            0          1  \n",
            "\n",
            "[2 rows x 71 columns]\n"
          ]
        }
      ]
    },
    {
      "cell_type": "code",
      "source": [
        "#@title lunch selector\n",
        "repes = pd.read_csv('Nutriv.csv')\n",
        "\n",
        "def filter_by_cal_lunch(df, min_calories, max_calories):\n",
        "    return df[(df['calories'] >= min_calories) & (df['calories'] <= max_calories) & (df['lunch'] >= 1)]\n",
        "\n",
        "filter_C =filter_by_cal_lunch(recipes, 400, 600)\n",
        "recommended_recipe = filter_C.sample(n=2)\n",
        "recommended_recipe = recommended_recipe[['title','calories','protein','fat', 'lunch']]\n",
        "# Step 5: Print out the recommended recipes\n",
        "print(recommended_recipe)"
      ],
      "metadata": {
        "id": "2HEr3C3FjTEf",
        "cellView": "form",
        "outputId": "8f83ab55-5a7f-4066-ae32-eceae82607db",
        "colab": {
          "base_uri": "https://localhost:8080/"
        }
      },
      "execution_count": null,
      "outputs": [
        {
          "output_type": "stream",
          "name": "stdout",
          "text": [
            "                                                   title  calories  protein  \\\n",
            "18302                     Crab Cakes with Avocado Salad      462.0     19.0   \n",
            "12251  Pan-Grilled Salmon on Toast with Scallion Mayo...     457.0     27.0   \n",
            "\n",
            "        fat  lunch  \n",
            "18302  25.0      1  \n",
            "12251  32.0      1  \n"
          ]
        }
      ]
    },
    {
      "cell_type": "code",
      "source": [
        "def filter_by_cal_dinner(df, min_calories, max_calories):\n",
        "    return df[(df['calories'] >= min_calories) & (df['calories'] <= max_calories) & (df['dinner'] >= 1)]\n",
        "\n",
        "filter_C =filter_by_cal_dinner(recipes, 400, 600)\n",
        "recommended_recipe = filter_C.sample(n=2)\n",
        "recommended_recipe = recommended_recipe[['title','calories','protein','fat', 'dinner']]\n",
        "# Step 5: Print out the recommended recipes\n",
        "print(recommended_recipe)"
      ],
      "metadata": {
        "colab": {
          "base_uri": "https://localhost:8080/"
        },
        "id": "wsEQwiHmj39I",
        "outputId": "c3ed72e3-d205-4381-ca86-b3164cf56009"
      },
      "execution_count": null,
      "outputs": [
        {
          "output_type": "stream",
          "name": "stdout",
          "text": [
            "                                                   title  calories  protein  \\\n",
            "18509  Breaded Chicken Cutlets with Chunky Vegetable ...     531.0     66.0   \n",
            "6572   Mustard-Maple Ham Steaks with Cider-Madeira Sa...     579.0     64.0   \n",
            "\n",
            "        fat  dinner  \n",
            "18509  14.0       1  \n",
            "6572   19.0       1  \n"
          ]
        }
      ]
    },
    {
      "cell_type": "code",
      "source": [
        "#@title Code \n",
        "\n"
      ],
      "metadata": {
        "id": "N8rX4_jBkihV"
      },
      "execution_count": 1,
      "outputs": []
    },
    {
      "cell_type": "code",
      "source": [
        "import pandas as pd\n",
        "import random\n",
        "\n",
        "# Load the data into a pandas dataframe\n",
        "df = pd.read_csv('Nutriv.csv')\n",
        "\n",
        "# Define the range of the sum of the randomly selected values\n",
        "min_sum = 1000\n",
        "max_sum = 2000\n",
        "\n",
        "# Select 5 random values from the numeric column\n",
        "selected_values = []\n",
        "while sum(selected_values) < min_sum or sum(selected_values) > max_sum:\n",
        "    selected_values = random.sample(list(df['calories']), 5)\n",
        "\n",
        "# Print the title values corresponding to the selected numeric values\n",
        "for val in selected_values:\n",
        "    print(df.loc[df['calories'] == val, 'title'].values[0])"
      ],
      "metadata": {
        "id": "1moOM5974-Ri",
        "outputId": "3a575c1d-d8fa-4d4b-bb4d-16f61814af0a",
        "colab": {
          "base_uri": "https://localhost:8080/"
        }
      },
      "execution_count": 3,
      "outputs": [
        {
          "output_type": "stream",
          "name": "stdout",
          "text": [
            "Bacon Swiss Burgers with Tomato and Avocado \n",
            "Avocado and Grapefruit Salad \n",
            "Avocado, Shrimp, and Endive Salad \n",
            "Bavarian Cream with Raspberry Coulis \n",
            "Asparagus Soup with Basil Cream \n"
          ]
        }
      ]
    },
    {
      "cell_type": "code",
      "source": [],
      "metadata": {
        "id": "FHev2afZ5C8A"
      },
      "execution_count": null,
      "outputs": []
    }
  ]
}