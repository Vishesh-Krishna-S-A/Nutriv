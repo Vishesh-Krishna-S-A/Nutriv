{
  "nbformat": 4,
  "nbformat_minor": 0,
  "metadata": {
    "colab": {
      "provenance": [],
      "include_colab_link": true
    },
    "kernelspec": {
      "name": "python3",
      "display_name": "Python 3"
    },
    "language_info": {
      "name": "python"
    }
  },
  "cells": [
    {
      "cell_type": "markdown",
      "metadata": {
        "id": "view-in-github",
        "colab_type": "text"
      },
      "source": [
        "<a href=\"https://colab.research.google.com/github/Vishesh-Krishna-S-A/Nutriv/blob/main/Nutriv.ipynb\" target=\"_parent\"><img src=\"https://colab.research.google.com/assets/colab-badge.svg\" alt=\"Open In Colab\"/></a>"
      ]
    },
    {
      "cell_type": "markdown",
      "source": [
        "# Nutriv Project"
      ],
      "metadata": {
        "id": "1vZGHl0AOsNs"
      }
    },
    {
      "cell_type": "code",
      "source": [
        "import numpy as np\n",
        "import pandas as pd"
      ],
      "metadata": {
        "id": "1G6xdSWQnMWi"
      },
      "execution_count": null,
      "outputs": []
    },
    {
      "cell_type": "markdown",
      "source": [
        "## Importing the dataset"
      ],
      "metadata": {
        "id": "A2G2kgcqps2e"
      }
    },
    {
      "cell_type": "code",
      "source": [
        "recipes = pd.read_csv('epi_r.csv')\n",
        "X = recipes.iloc[:, 2:].values\n",
        "y = recipes.iloc[:, 0].values"
      ],
      "metadata": {
        "id": "oX-qLSCVpzhy"
      },
      "execution_count": null,
      "outputs": []
    },
    {
      "cell_type": "code",
      "source": [
        "print(X)"
      ],
      "metadata": {
        "colab": {
          "base_uri": "https://localhost:8080/"
        },
        "id": "lfm8HcvKsID0",
        "outputId": "35e4156c-cf4b-4fad-df68-de40539900ae"
      },
      "execution_count": null,
      "outputs": [
        {
          "output_type": "stream",
          "name": "stdout",
          "text": [
            "[[4.260e+02 3.000e+01 7.000e+00 ... 0.000e+00 0.000e+00 1.000e+00]\n",
            " [4.030e+02 1.800e+01 2.300e+01 ... 0.000e+00 0.000e+00 0.000e+00]\n",
            " [1.650e+02 6.000e+00 7.000e+00 ... 0.000e+00 0.000e+00 0.000e+00]\n",
            " ...\n",
            " [1.990e+02 3.000e+00 2.100e+01 ... 0.000e+00 0.000e+00 0.000e+00]\n",
            " [1.466e+03 1.200e+01 1.000e+02 ... 0.000e+00 0.000e+00 0.000e+00]\n",
            " [2.470e+02 1.000e+00 2.600e+01 ...       nan       nan       nan]]\n"
          ]
        }
      ]
    },
    {
      "cell_type": "code",
      "source": [
        "print(y)"
      ],
      "metadata": {
        "colab": {
          "base_uri": "https://localhost:8080/"
        },
        "id": "HVbGl5w3sJhX",
        "outputId": "609ac2e6-38c0-47d4-db8e-59e9eb89ab54"
      },
      "execution_count": null,
      "outputs": [
        {
          "output_type": "stream",
          "name": "stdout",
          "text": [
            "['Lentil, Apple, and Turkey Wrap '\n",
            " 'Boudin Blanc Terrine with Red Onion Confit '\n",
            " 'Potato and Fennel Soup Hodge ' ... 'Almond Brown Butter '\n",
            " 'Spiced Chocolate Torte Wrapped in Chocolate Ribbons ' 'Herbed Olives ']\n"
          ]
        }
      ]
    },
    {
      "cell_type": "code",
      "source": [
        "recipes = pd.read_csv('Nutriv.csv')\n",
        "def filter_by_cal(df, min_calories, max_calories):\n",
        "    return df[(df['calories'] >= min_calories) & (df['calories'] <= max_calories) & (df['breakfast'] >= 1)]\n",
        "\n",
        "filter_C =filter_by_cal(recipes, 400, 600)\n",
        "recommended_recipe = filter_C.sample(n=2)\n",
        "\n",
        "# Step 5: Print out the recommended recipes\n",
        "print(recommended_recipe.loc[:, 'title':'breakfast'])"
      ],
      "metadata": {
        "colab": {
          "base_uri": "https://localhost:8080/"
        },
        "id": "5tphl0Nj15vc",
        "outputId": "10a98776-9f34-454e-e116-fc6b70297b98"
      },
      "execution_count": null,
      "outputs": [
        {
          "output_type": "stream",
          "name": "stdout",
          "text": [
            "                                                   title  calories  protein  \\\n",
            "6018   Super Green Smoothie Bowl With Matcha and Ginger      505.0     10.0   \n",
            "17508                Egg and Avocado Breakfast Sandwich      445.0     17.0   \n",
            "\n",
            "        fat  sodium  #cakeweek  #wasteless  22-minute meals  \\\n",
            "6018   39.0    34.0          0           0                0   \n",
            "17508  24.0   449.0          0           0                0   \n",
            "\n",
            "       3-ingredient recipes  30 days of groceries  ...  bon appétit  \\\n",
            "6018                      0                     0  ...            0   \n",
            "17508                     0                     0  ...            1   \n",
            "\n",
            "       bon app��tit  boston  bourbon  braise  bran  brandy  bread  \\\n",
            "6018              0       0        0       0     0       0      0   \n",
            "17508             0       0        0       0     0       0      0   \n",
            "\n",
            "       breadcrumbs  breakfast  \n",
            "6018             0          1  \n",
            "17508            0          1  \n",
            "\n",
            "[2 rows x 71 columns]\n"
          ]
        }
      ]
    },
    {
      "cell_type": "markdown",
      "source": [
        "## Filtering based on Calories and Type of food"
      ],
      "metadata": {
        "id": "Bt2H24JL3EuD"
      }
    },
    {
      "cell_type": "code",
      "source": [],
      "metadata": {
        "id": "bKSEAo12HeeN"
      },
      "execution_count": null,
      "outputs": []
    },
    {
      "cell_type": "code",
      "source": [],
      "metadata": {
        "id": "urtQxmsLrhDq"
      },
      "execution_count": null,
      "outputs": []
    },
    {
      "cell_type": "code",
      "source": [],
      "metadata": {
        "id": "95WsfjotrhT6"
      },
      "execution_count": null,
      "outputs": []
    },
    {
      "cell_type": "code",
      "source": [],
      "metadata": {
        "id": "kppnnsfXrhcz"
      },
      "execution_count": null,
      "outputs": []
    },
    {
      "cell_type": "code",
      "source": [],
      "metadata": {
        "id": "RlK-IG1hrheY"
      },
      "execution_count": null,
      "outputs": []
    },
    {
      "cell_type": "code",
      "source": [
        "\n",
        "def count():\n",
        "    age = float(input('Age:\\n'))\n",
        "    weight = float(input('Weight:\\n'))\n",
        "    height = float(input('Height:\\n'))\n",
        "    Calories = (88.362+(13.397*weight)+(4.799*height)-(5.677*age))*1.2\n",
        "    print('Required calories with no exercise to lose weight:', (Calories- 500),' to ', (Calories-250),'kcal')\n",
        "    print('Required calories with no exercise to maintain weight:', (Calories),' to ', (Calories+100),'kcal')\n",
        "    print('Required calories with no exercise to increase weight:', (Calories+250),' to ', (Calories+500)kcal')\n"
      ],
      "metadata": {
        "id": "fQEaThczrhib"
      },
      "execution_count": null,
      "outputs": []
    },
    {
      "cell_type": "code",
      "source": [
        "\n",
        "def count2():\n",
        "    age = float(input('Age:\\n'))\n",
        "    weight = float(input('Weight:\\n'))\n",
        "    height = float(input('Height:\\n'))\n",
        "    Calories = (88.362+(13.397*weight)+(4.799*height)-(5.677*age))*1.55\n",
        "    print('Required calories with moderate exercise to lose weight:', (Calories- 500),' to ', (Calories-250),'kcal')\n",
        "    print('Required calories with moderate exercise to maintain weight:', (Calories),' to ', (Calories+100),'kcal')\n",
        "    print('Required calories with moderate exercise to increase weight:', (Calories+250),' to ', (Calories+500),'kcal')\n"
      ],
      "metadata": {
        "id": "0z8mQE72rhj9"
      },
      "execution_count": null,
      "outputs": []
    },
    {
      "cell_type": "code",
      "source": [
        "\n",
        "def count3():\n",
        "    age = float(input('Age:\\n'))\n",
        "    weight = float(input('Weight:\\n'))\n",
        "    height = float(input('Height:\\n'))\n",
        "    Calories = (88.362+(13.397*weight)+(4.799*height)-(5.677*age))*1.725\n",
        "    print('Required calories with hard exercise to lose weight:', (Calories- 500),' to ', (Calories-250),'kcal')\n",
        "    print('Required calories with hard exercise to maintain weight:', (Calories),' to ', (Calories+100),'kcal')\n",
        "    print('Required calories with hard exercise to increase weight:', (Calories+250),' to ', (Calories+500),'kcal')\n"
      ],
      "metadata": {
        "id": "kovM6YUBrhn4"
      },
      "execution_count": null,
      "outputs": []
    },
    {
      "cell_type": "code",
      "source": [
        "\n",
        "def count4():\n",
        "    print('female')\n",
        "    age = float(input('Age:\\n'))\n",
        "    weight = float(input('Weight:\\n'))\n",
        "    height = float(input('Height:\\n'))\n",
        "    Calories = (447.593+(9.247*weight)+(3.098*height)-(4.330*age))*1.2\n",
        "    print('Required calories with no exercise to lose weight:', (Calories - 500),' to ', (Calories-250),'kcal')\n",
        "    print('Required calories with no exercise to maintain weight:', (Calories),' to ', (Calories+100),'kcal')\n",
        "    print('Required calories with no exercise to increase weight:', (Calories+250),' to ', (Calories+500)kcal')\n"
      ],
      "metadata": {
        "id": "yq3upNSgrhpd"
      },
      "execution_count": null,
      "outputs": []
    },
    {
      "cell_type": "code",
      "source": [
        "\n",
        "def count5():\n",
        "    print('female')\n",
        "    age = float(input('Age:\\n'))\n",
        "    weight = float(input('Weight:\\n'))\n",
        "    height = float(input('Height:\\n'))\n",
        "    Calories = (447.593+(9.247*weight)+(3.098*height)-(4.330*age))*1.55\n",
        "    print('Required calories with moderate exercise to lose weight:', (Calories-500),' to ', (Calories-250),'kcal')\n",
        "    print('Required calories with moderate exercise to maintain weight:', (Calories),' to ', (Calories+100),'kcal')\n",
        "    print('Required calories with moderate exercise to increase weight:', (Calories+250),' to ', (Calories+500),'kcal')\n"
      ],
      "metadata": {
        "id": "PJn-NvY0rhtq"
      },
      "execution_count": null,
      "outputs": []
    },
    {
      "cell_type": "code",
      "source": [
        "\n",
        "def count6():\n",
        "    print('female')\n",
        "    age = float(input('Age:\\n'))\n",
        "    weight = float(input('Weight:\\n'))\n",
        "    height = float(input('Height:\\n'))\n",
        "    Calories = (447.593+(9.247*weight)+(3.098*height)-(4.330*age))*1.725\n",
        "    print('Required calories with hard exercise to lose weight:', (Calories-500),' to ', (Calories-250),'kcal')\n",
        "    print('Required calories with hard exercise to maintain weight:', (Calories),' to ', (Calories+100),'kcal')\n",
        "    print('Required calories with hard exercise to increase weight:', (Calories+250),' to ', (Calories+500),'kcal')\n"
      ],
      "metadata": {
        "id": "Y6qwlrwErhvb"
      },
      "execution_count": null,
      "outputs": []
    },
    {
      "cell_type": "code",
      "source": [],
      "metadata": {
        "id": "jUE364GkrhzE"
      },
      "execution_count": null,
      "outputs": []
    },
    {
      "cell_type": "code",
      "source": [],
      "metadata": {
        "id": "9jyNdtNGrh0g"
      },
      "execution_count": null,
      "outputs": []
    },
    {
      "cell_type": "code",
      "source": [
        "#@title lunch selector\n",
        "repes = pd.read_csv('Nutriv.csv')\n",
        "\n",
        "def filter_by_cal_lunch(df, min_calories, max_calories):\n",
        "    return df[(df['calories'] >= min_calories) & (df['calories'] <= max_calories) & (df['lunch'] >= 1)]\n",
        "\n",
        "filter_C =filter_by_cal_lunch(recipes, 400, 600)\n",
        "recommended_recipe = filter_C.sample(n=2)\n",
        "recommended_recipe = recommended_recipe[['title','calories','protein','fat', 'lunch']]\n",
        "# Step 5: Print out the recommended recipes\n",
        "print(recommended_recipe)"
      ],
      "metadata": {
        "id": "2HEr3C3FjTEf",
        "outputId": "8f83ab55-5a7f-4066-ae32-eceae82607db",
        "colab": {
          "base_uri": "https://localhost:8080/"
        }
      },
      "execution_count": null,
      "outputs": [
        {
          "output_type": "stream",
          "name": "stdout",
          "text": [
            "                                                   title  calories  protein  \\\n",
            "18302                     Crab Cakes with Avocado Salad      462.0     19.0   \n",
            "12251  Pan-Grilled Salmon on Toast with Scallion Mayo...     457.0     27.0   \n",
            "\n",
            "        fat  lunch  \n",
            "18302  25.0      1  \n",
            "12251  32.0      1  \n"
          ]
        }
      ]
    },
    {
      "cell_type": "code",
      "source": [],
      "metadata": {
        "id": "wsEQwiHmj39I"
      },
      "execution_count": null,
      "outputs": []
    },
    {
      "cell_type": "code",
      "source": [
        "a=\n",
        "b=\n"
      ],
      "metadata": {
        "id": "N8rX4_jBkihV"
      },
      "execution_count": null,
      "outputs": []
    },
    {
      "cell_type": "code",
      "source": [
        "import pandas as pd\n",
        "import random\n",
        "\n",
        "# Load the data into a pandas dataframe\n",
        "df = pd.read_csv('Nutriv.csv')\n",
        "\n",
        "# Define the range of the sum of the randomly selected values\n",
        "min_sum = a\n",
        "max_sum = b\n",
        "\n",
        "# Select 5 random values from the numeric column\n",
        "selected_values = []\n",
        "while sum(selected_values) < min_sum or sum(selected_values) > max_sum:\n",
        "    selected_values = random.sample(list(df['calories']), 5)\n",
        "\n",
        "# Print the title values corresponding to the selected numeric values\n",
        "for val in selected_values:\n",
        "    print(df.loc[df['calories'] == val, 'title'].values[0])"
      ],
      "metadata": {
        "colab": {
          "base_uri": "https://localhost:8080/"
        },
        "id": "1moOM5974-Ri",
        "outputId": "3a575c1d-d8fa-4d4b-bb4d-16f61814af0a"
      },
      "execution_count": null,
      "outputs": [
        {
          "output_type": "stream",
          "name": "stdout",
          "text": [
            "Bacon Swiss Burgers with Tomato and Avocado \n",
            "Avocado and Grapefruit Salad \n",
            "Avocado, Shrimp, and Endive Salad \n",
            "Bavarian Cream with Raspberry Coulis \n",
            "Asparagus Soup with Basil Cream \n"
          ]
        }
      ]
    },
    {
      "cell_type": "code",
      "source": [
        "a=\n",
        "b=\n"
      ],
      "metadata": {
        "id": "8ITHBSHA1_yc"
      },
      "execution_count": null,
      "outputs": []
    },
    {
      "cell_type": "code",
      "source": [
        "import pandas as pd\n",
        "import random\n",
        "\n",
        "# Load data from a CSV file\n",
        "df = pd.read_csv('Nutriv.csv')\n",
        "\n",
        "# Define the sum range\n",
        "min_sum = 1000\n",
        "max_sum = 2000\n",
        "\n",
        "# Define a list to store the selected rows\n",
        "selected_rows = []\n",
        "\n",
        "# Loop until we find 5 rows that meet the criteria\n",
        "while len(selected_rows) < 5:\n",
        "    # Choose a random row index\n",
        "    row_index = random.randint(0, len(df) - 1)\n",
        "    \n",
        "    # Check if the sum of the numeric column is in the range\n",
        "    if min_sum <= df.iloc[row_index]['calories'] <= max_sum:\n",
        "        \n",
        "        # Check if the three binary columns have no ones at the same time\n",
        "        if not (df.iloc[row_index]['breakfast'] == 1 and df.iloc[row_index]['lunch'] == 1 and df.iloc[row_index]['dinner'] == 1):\n",
        "            \n",
        "            # Add the row index to the selected_rows list\n",
        "            selected_rows.append(row_index)\n",
        "\n",
        "# Print the characters from the title column of the selected rows\n",
        "for row_index in selected_rows:\n",
        "    print(row_index)\n",
        "    print(df.iloc[row_index]['title'])\n"
      ],
      "metadata": {
        "colab": {
          "base_uri": "https://localhost:8080/"
        },
        "id": "FHev2afZ5C8A",
        "outputId": "e32966d0-5bf4-4e7e-ec2b-7e144934308c"
      },
      "execution_count": null,
      "outputs": [
        {
          "output_type": "stream",
          "name": "stdout",
          "text": [
            "1522\n",
            "Chilean Country Ribs \n",
            "5501\n",
            "Pork Shoulder with Mustard-Mushroom Gravy \n",
            "6826\n",
            "Shrimp with Chunky Tomato-Saffron Sauce \n",
            "2111\n",
            "Crispy Chicken with Shallots \n",
            "672\n",
            "Bo Ssäm Grilled Pork and Pickled Slaw in Lettuce Cups \n"
          ]
        }
      ]
    },
    {
      "cell_type": "code",
      "source": [],
      "metadata": {
        "id": "iemn_BiZyukA"
      },
      "execution_count": null,
      "outputs": []
    },
    {
      "cell_type": "code",
      "source": [
        "import pandas as pd\n",
        "import random\n",
        "\n",
        "# Load the data into a pandas DataFrame\n",
        "df = pd.read_csv('Nutriv.csv')\n",
        "\n",
        "# Define the range for the sum of the 5 random values\n",
        "min_sum = a\n",
        "max_sum = b\n",
        "\n",
        "# Define the names of the columns with ones and zeros\n",
        "col_names = ['lunch', 'breakfast', 'dinner']\n",
        "\n",
        "# Loop until we find a valid set of rows\n",
        "while True:\n",
        "    # Select 5 random rows from the DataFrame\n",
        "    rows = df.sample(n=5)\n",
        "\n",
        "    # Calculate the sum of the numeric column for the selected rows\n",
        "    numeric_sum = rows['calories'].sum()\n",
        "\n",
        "    # Check if the sum is within the specified range\n",
        "    if min_sum <= numeric_sum <= max_sum:\n",
        "        # Check if only one of the columns with ones and zeros has a one\n",
        "        ones_count = 0\n",
        "        for col_name in col_names:\n",
        "            if rows[col_name].sum() == 1:\n",
        "                ones_count += 1\n",
        "        if ones_count == 1:\n",
        "            # Print the characters from the title column for the selected rows\n",
        "            print(rows['title'].tolist())\n",
        "            break"
      ],
      "metadata": {
        "id": "akM1cvtr8esd",
        "outputId": "38417c2a-d48d-4a81-be3b-c572b7b404c6",
        "colab": {
          "base_uri": "https://localhost:8080/"
        }
      },
      "execution_count": null,
      "outputs": [
        {
          "output_type": "stream",
          "name": "stdout",
          "text": [
            "['Sweet-and-Sour Brussels Sprouts with Fresh Dill ', 'Salmon Consommé with Créme Fraîche and Salmon Caviar ', 'Indian-Style Chicken with Ginger and Curry ', 'Yogurt Marinated Chicken Skewers With Toum Garlic Sauce ', 'Grilled Chorizo, Goat Cheese, and Watercress Pita Pizzas ']\n"
          ]
        }
      ]
    },
    {
      "cell_type": "markdown",
      "source": [
        "DECISION TREE TRAINING::\n"
      ],
      "metadata": {
        "id": "LogtLFIl7j3N"
      }
    },
    {
      "cell_type": "code",
      "source": [
        "\n",
        "import numpy as np\n",
        "import pandas as pd\n",
        "\n",
        "\n",
        "from sklearn.tree import DecisionTreeClassifier\n",
        "import random\n",
        "data = pd.read_csv('Nutriv.csv')\n",
        "\n",
        "# filter the dataset to include only breakfast, lunch, and dinner recipes\n",
        "data = data[['calories', 'breakfast', 'lunch', 'dinner', 'title']]\n",
        "data = data[data[['breakfast', 'lunch', 'dinner']].apply(lambda x: x.isin([0, 1]).all(), axis=1)]\n",
        "\n",
        "# split the dataset into training and testing datasets\n",
        "train_data = data.iloc[:80, :]\n",
        "test_data = data.iloc[80:, :]\n",
        "\n",
        "# create the decision tree model\n",
        "features = ['calories', 'breakfast', 'lunch', 'dinner']\n",
        "X_train = train_data[features]\n",
        "y_train = train_data['calories']\n",
        "tree_model = DecisionTreeClassifier()\n",
        "tree_model.fit(X_train, y_train)\n",
        "\n",
        "# generate a random breakfast recipe with calories between 400 to 800\n",
        "breakfast = random.randint(0, 1)\n",
        "breakfast_calories = random.randint(400, 800)\n",
        "breakfast_data = [[breakfast_calories, breakfast, 0, 0]]\n",
        "breakfast_recipe = tree_model.predict(breakfast_data)[0]\n",
        "breakfast_title = train_data[train_data['calories']==breakfast_recipe]['title'].iloc[0]\n",
        "\n",
        "# generate a random lunch recipe with calories between 500 to 1000\n",
        "lunch = random.randint(0, 1)\n",
        "lunch_calories = random.randint(500, 1000)\n",
        "lunch_data = [[lunch_calories, 0, lunch, 0]]\n",
        "lunch_recipe = tree_model.predict(lunch_data)[0]\n",
        "lunch_title = train_data[train_data['calories']==lunch_recipe]['title'].iloc[0]\n",
        "\n",
        "# generate a random dinner recipe with calories between 600 to 1200\n",
        "dinner = random.randint(0, 1)\n",
        "dinner_calories = random.randint(600, 1200)\n",
        "dinner_data = [[dinner_calories, 0, 0, dinner]]\n",
        "dinner_recipe = tree_model.predict(dinner_data)[0]\n",
        "dinner_title = train_data[train_data['calories']==dinner_recipe]['title'].iloc[0]\n",
        "\n",
        "# calculate the total calories and check if they are between 1000 to 2000\n",
        "total_calories = breakfast_calories + lunch_calories + dinner_calories\n",
        "while total_calories < 1000 or total_calories > 2000:\n",
        "    breakfast = random.randint(0, 1)\n",
        "    breakfast_calories = random.randint(400, 800)\n",
        "    breakfast_data = [[breakfast_calories, breakfast, 0, 0]]\n",
        "    breakfast_recipe = tree_model.predict(breakfast_data)[0]\n",
        "    breakfast_title = train_data[train_data['calories']==breakfast_recipe]['title'].iloc[0]\n",
        "    lunch = random.randint(0, 1)\n",
        "    lunch_calories = random.randint(500, 1000)\n",
        "    lunch_data = [[lunch_calories, 0, lunch, 0]]\n",
        "    lunch_recipe = tree_model.predict(lunch_data)[0]\n",
        "    lunch_title = train_data[train_data['calories']==lunch_recipe]['title'].iloc[0]\n",
        "    dinner = random.randint(0, 1)\n",
        "    dinner_calories = random.randint(600, 1200)\n",
        "    dinner_data = [[dinner_calories, 0, dinner, 0]]\n",
        "    dinner_recipe = tree_model.predict(dinner_data)[0]\n",
        "    dinner_title = train_data[train_data['calories']==dinner_recipe]['title'].iloc[0]\n",
        "    total_calories = breakfast_calories + lunch_calories + dinner_calories\n",
        "\n",
        "# print the selected recipes and their total calories\n",
        "print(f\"Breakfast recipe name: {breakfast_title}, {breakfast_recipe} calories\")\n",
        "print(f\"Lunch recipe name: {lunch_title},{lunch_calories} calories)\")\n",
        "print(f\"Dinner recipe: {dinner_title}, {dinner_calories} calories)\")\n",
        "print(f\"Total calories: {total_calories}\")\n",
        "\n"
      ],
      "metadata": {
        "id": "ZN-3IoZT7ipr",
        "outputId": "4b47714a-54d1-4d5f-855a-e20fc76d4f70",
        "colab": {
          "base_uri": "https://localhost:8080/"
        }
      },
      "execution_count": null,
      "outputs": [
        {
          "output_type": "stream",
          "name": "stdout",
          "text": [
            "Breakfast recipe name: Aloo Gobhi Stuffing , 524 calories\n",
            "Lunch recipe name: Angel Hair Pasta with Tuna and Tomato Sauce ,624 calories)\n",
            "Dinner recipe: American Cheese, Bacon and Tomato on White Bread , 847 calories)\n",
            "Total calories: 1993\n"
          ]
        },
        {
          "output_type": "stream",
          "name": "stderr",
          "text": [
            "/usr/local/lib/python3.10/dist-packages/sklearn/base.py:439: UserWarning: X does not have valid feature names, but DecisionTreeClassifier was fitted with feature names\n",
            "  warnings.warn(\n",
            "/usr/local/lib/python3.10/dist-packages/sklearn/base.py:439: UserWarning: X does not have valid feature names, but DecisionTreeClassifier was fitted with feature names\n",
            "  warnings.warn(\n",
            "/usr/local/lib/python3.10/dist-packages/sklearn/base.py:439: UserWarning: X does not have valid feature names, but DecisionTreeClassifier was fitted with feature names\n",
            "  warnings.warn(\n",
            "/usr/local/lib/python3.10/dist-packages/sklearn/base.py:439: UserWarning: X does not have valid feature names, but DecisionTreeClassifier was fitted with feature names\n",
            "  warnings.warn(\n",
            "/usr/local/lib/python3.10/dist-packages/sklearn/base.py:439: UserWarning: X does not have valid feature names, but DecisionTreeClassifier was fitted with feature names\n",
            "  warnings.warn(\n",
            "/usr/local/lib/python3.10/dist-packages/sklearn/base.py:439: UserWarning: X does not have valid feature names, but DecisionTreeClassifier was fitted with feature names\n",
            "  warnings.warn(\n",
            "/usr/local/lib/python3.10/dist-packages/sklearn/base.py:439: UserWarning: X does not have valid feature names, but DecisionTreeClassifier was fitted with feature names\n",
            "  warnings.warn(\n",
            "/usr/local/lib/python3.10/dist-packages/sklearn/base.py:439: UserWarning: X does not have valid feature names, but DecisionTreeClassifier was fitted with feature names\n",
            "  warnings.warn(\n",
            "/usr/local/lib/python3.10/dist-packages/sklearn/base.py:439: UserWarning: X does not have valid feature names, but DecisionTreeClassifier was fitted with feature names\n",
            "  warnings.warn(\n"
          ]
        }
      ]
    },
    {
      "cell_type": "code",
      "source": [
        "import pandas as pd\n",
        "from sklearn.tree import DecisionTreeClassifier\n",
        "from sklearn.metrics import accuracy_score\n",
        "\n",
        "# load the dataset\n",
        "data = pd.read_csv('Nutriv.csv')\n",
        "\n",
        "# filter the dataset to include only breakfast, lunch, and dinner recipes\n",
        "data = data[['calories', 'breakfast', 'lunch', 'dinner']]\n",
        "data = data[data[['breakfast', 'lunch', 'dinner']].apply(lambda x: x.isin([0, 1]).all(), axis=1)]\n",
        "\n",
        "# split the dataset into training and testing datasets\n",
        "train_data = data.iloc[:80, :]\n",
        "test_data = data.iloc[80:, :]\n",
        "\n",
        "# create the decision tree model\n",
        "features = ['calories', 'breakfast', 'lunch', 'dinner']\n",
        "X_train = train_data[features]\n",
        "y_train = train_data['dinner']\n",
        "tree_model = DecisionTreeClassifier()\n",
        "tree_model.fit(X_train, y_train)\n",
        "\n",
        "# test the model on the testing dataset and print the accuracy score\n",
        "X_test = test_data[features]\n",
        "y_test = test_data['dinner']\n",
        "y_pred = tree_model.predict(X_test)\n",
        "accuracy = accuracy_score(y_test, y_pred)\n",
        "print('Accuracy:', accuracy)\n"
      ],
      "metadata": {
        "id": "nXNIK0XNEQ6R",
        "outputId": "97147327-c197-44fc-8d05-ce1830c3c6cb",
        "colab": {
          "base_uri": "https://localhost:8080/"
        }
      },
      "execution_count": null,
      "outputs": [
        {
          "output_type": "stream",
          "name": "stdout",
          "text": [
            "Accuracy: 1.0\n"
          ]
        }
      ]
    },
    {
      "cell_type": "code",
      "source": [
        "X_test = test_data[features]\n",
        "y_test = test_data['calories']\n",
        "accuracy = tree_model.score(X_test, y_test)\n",
        "print(f\"Accuracy score: {accuracy}\")"
      ],
      "metadata": {
        "colab": {
          "base_uri": "https://localhost:8080/"
        },
        "id": "CiTYE46rGZyw",
        "outputId": "eb64b963-eb6e-4efb-fd9c-246118ffa7ea"
      },
      "execution_count": null,
      "outputs": [
        {
          "output_type": "stream",
          "name": "stdout",
          "text": [
            "Accuracy score: 0.048931116389548696\n"
          ]
        }
      ]
    },
    {
      "cell_type": "code",
      "source": [
        "import pandas as pd\n",
        "from sklearn.tree import DecisionTreeClassifier\n",
        "from sklearn.metrics import accuracy_score\n",
        "import random\n",
        "\n",
        "# load the dataset\n",
        "data = pd.read_csv('Nutriv.csv')\n",
        "\n",
        "# filter the dataset to include only breakfast, lunch, and dinner recipes\n",
        "data = data[['calories', 'breakfast', 'lunch', 'dinner']]\n",
        "data = data[data[['breakfast', 'lunch', 'dinner']].apply(lambda x: x.isin([0, 1]).all(), axis=1)]\n",
        "\n",
        "# split the dataset into training and testing datasets\n",
        "train_data = data.iloc[:80, :]\n",
        "test_data = data.iloc[80:, :]\n",
        "\n",
        "# create the decision tree model\n",
        "features = ['calories', 'breakfast', 'lunch', 'dinner']\n",
        "X_train = train_data[features]\n",
        "y_train = train_data['calories']\n",
        "tree_model = DecisionTreeClassifier()\n",
        "tree_model.fit(X_train, y_train)\n",
        "\n",
        "# evaluate the accuracy of the model using the testing dataset\n",
        "X_test = test_data[features]\n",
        "y_test = test_data['calories']\n",
        "y_pred = tree_model.predict(X_test)\n",
        "accuracy = accuracy_score(y_test, y_pred)\n",
        "print(f\"Accuracy of the decision tree model: {accuracy:.2f}\")\n",
        "\n",
        "# generate a random breakfast recipe with calories between 400 to 800\n",
        "breakfast = random.randint(0, 1)\n",
        "breakfast_calories = random.randint(400, 800)\n",
        "breakfast_data = [[breakfast_calories, breakfast, 0, 0]]\n",
        "breakfast_recipe = tree_model.predict(breakfast_data)[0]\n",
        "\n",
        "# generate a random lunch recipe with calories between 500 to 1000\n",
        "lunch = random.randint(0, 1)\n",
        "lunch_calories = random.randint(500, 1000)\n",
        "lunch_data = [[lunch_calories, 0, lunch, 0]]\n",
        "lunch_recipe = tree_model.predict(lunch_data)[0]\n",
        "\n",
        "# generate a random dinner recipe with calories between 600 to 1200\n",
        "dinner = random.randint(0, 1)\n",
        "dinner_calories = random.randint(600, 1200)\n",
        "dinner_data = [[dinner_calories, 0, 0, dinner]]\n",
        "dinner_recipe = tree_model.predict(dinner_data)[0]\n",
        "\n",
        "# calculate the total calories and check if they are between 1000 to 2000\n",
        "total_calories = breakfast_calories + lunch_calories + dinner_calories\n",
        "while total_calories < 1000 or total_calories > 2000:\n",
        "    breakfast = random.randint(0, 1)\n",
        "    breakfast_calories = random.randint(400, 800)\n",
        "    breakfast_data = [[breakfast_calories, breakfast, 0, 0]]\n",
        "    breakfast_recipe = tree_model.predict(breakfast_data)[0]\n",
        "    lunch = random.randint(0, 1)\n",
        "    lunch_calories = random.randint(500, 1000)\n",
        "    lunch_data = [[lunch_calories, 0, lunch, 0]]\n",
        "    lunch_recipe = tree_model.predict(lunch_data)[0]\n",
        "    dinner = random.randint(0, 1)\n",
        "    dinner_calories = random.randint(600, 1200)\n",
        "    dinner_data = [[dinner_calories, 0, 0, dinner]]\n",
        "    dinner_recipe = tree_model.predict(dinner_data)[0]\n",
        "    total_calories = breakfast_calories + lunch_calories + dinner_calories\n",
        "\n",
        "# print the selected recipes and their total calories\n",
        "print(f\"Breakfast recipe name: {breakfast_title}, {breakfast_recipe} calories\")\n",
        "print(f\"Lunch recipe name: {lunch_title},{lunch_calories} calories)\")\n",
        "print(f\"Dinner recipe: {dinner_title}, {dinner_calories} calories)\")\n",
        "print(f\"Total calories: {total_calories}\")"
      ],
      "metadata": {
        "id": "cMTC3lqnEixw",
        "outputId": "4d7f0715-8810-48d7-c588-77ae89edf6fc",
        "colab": {
          "base_uri": "https://localhost:8080/"
        }
      },
      "execution_count": null,
      "outputs": [
        {
          "output_type": "stream",
          "name": "stdout",
          "text": [
            "Accuracy of the decision tree model: 0.05\n",
            "Breakfast recipe name: \"Paella\" Fried Rice , 429 calories\n",
            "Lunch recipe name: African Adobo-Rubbed Tuna Steaks ,711 calories)\n",
            "Dinner recipe: Almond-Crusted Salmon with Leek and Lemon Cream , 685 calories)\n",
            "Total calories: 1819\n"
          ]
        },
        {
          "output_type": "stream",
          "name": "stderr",
          "text": [
            "/usr/local/lib/python3.9/dist-packages/sklearn/base.py:439: UserWarning: X does not have valid feature names, but DecisionTreeClassifier was fitted with feature names\n",
            "  warnings.warn(\n",
            "/usr/local/lib/python3.9/dist-packages/sklearn/base.py:439: UserWarning: X does not have valid feature names, but DecisionTreeClassifier was fitted with feature names\n",
            "  warnings.warn(\n",
            "/usr/local/lib/python3.9/dist-packages/sklearn/base.py:439: UserWarning: X does not have valid feature names, but DecisionTreeClassifier was fitted with feature names\n",
            "  warnings.warn(\n"
          ]
        }
      ]
    },
    {
      "cell_type": "markdown",
      "source": [
        "NEURAL NETWORK\n"
      ],
      "metadata": {
        "id": "dBF_yjwEcSuV"
      }
    },
    {
      "cell_type": "code",
      "source": [
        "import numpy as np\n",
        "import pandas as pd\n",
        "from sklearn.neural_network import MLPRegressor\n",
        "import random\n",
        "\n",
        "# Load the nutrition dataset\n",
        "data = pd.read_csv('Nutriv.csv')\n",
        "\n",
        "# Filter the dataset to include only breakfast, lunch, and dinner recipes\n",
        "data = data[['calories', 'breakfast', 'lunch', 'dinner', 'title']]\n",
        "data = data[data[['breakfast', 'lunch', 'dinner']].apply(lambda x: x.isin([0, 1]).all(), axis=1)]\n",
        "\n",
        "# Split the dataset into training and testing datasets\n",
        "train_data = data.iloc[:80, :]\n",
        "test_data = data.iloc[80:, :]\n",
        "\n",
        "# Define the neural network model\n",
        "model = MLPRegressor(hidden_layer_sizes=(10, 5), max_iter=10000)\n",
        "\n",
        "# Train the neural network model\n",
        "features = ['calories', 'breakfast', 'lunch', 'dinner']\n",
        "X_train = train_data[features]\n",
        "y_train = train_data['calories']\n",
        "model.fit(X_train, y_train)\n",
        "\n",
        "# Generate a random breakfast recipe with calories between 400 to 800\n",
        "breakfast = random.randint(0, 1)\n",
        "breakfast_calories = random.randint(400, 800)\n",
        "breakfast_data = [[breakfast_calories, breakfast, 0, 0]]\n",
        "breakfast_recipe = model.predict(breakfast_data)[0]\n",
        "breakfast_title = train_data.iloc[(train_data['calories']-breakfast_recipe).abs().argsort()[0]]['title']\n",
        "\n",
        "# Generate a random lunch recipe with calories between 500 to 1000\n",
        "lunch = random.randint(0, 1)\n",
        "lunch_calories = random.randint(500, 1000)\n",
        "lunch_data = [[lunch_calories, 0, lunch, 0]]\n",
        "lunch_recipe = model.predict(lunch_data)[0]\n",
        "lunch_title = train_data.iloc[(train_data['calories']-lunch_recipe).abs().argsort()[0]]['title']\n",
        "\n",
        "# Generate a random dinner recipe with calories between 600 to 1200\n",
        "dinner = random.randint(0, 1)\n",
        "dinner_calories = random.randint(600, 1200)\n",
        "dinner_data = [[dinner_calories, 0, 0, dinner]]\n",
        "dinner_recipe = model.predict(dinner_data)[0]\n",
        "dinner_title = train_data.iloc[(train_data['calories']-dinner_recipe).abs().argsort()[0]]['title']\n",
        "\n",
        "# Calculate the total calories and check if they are between 1000 to 2000\n",
        "total_calories = breakfast_calories + lunch_calories + dinner_calories\n",
        "while total_calories < 1000 or total_calories > 2000:\n",
        "    breakfast = random.randint(0, 1)\n",
        "    breakfast_calories = random.randint(400, 800)\n",
        "    breakfast_data = [[breakfast_calories, breakfast, 0, 0]]\n",
        "    breakfast_recipe = model.predict(breakfast_data)[0]\n",
        "    breakfast_title = train_data.iloc[(train_data['calories']-breakfast_recipe).abs().argsort()[0]]['title']\n",
        "    lunch = random.randint(0, 1)\n",
        "    lunch_calories = random.randint(500, 1000)\n",
        "    lunch_data = [[lunch_calories, 0, lunch, 0]]\n",
        "    lunch_recipe = model.predict(lunch_data)[0]\n",
        "    lunch_title = train_data.iloc[(train_data['calories']-lunch_recipe).abs().argsort()[0]]['title']\n",
        "    dinner = random.randint(0, 1)\n",
        "    dinner_calories = random.randint(600, 1200)\n",
        "    dinner_data = [[dinner_calories, 0, dinner, 0]]\n",
        "    dinner_recipe = model.predict(dinner_data)[0]\n",
        "    dinner_title = train_data.iloc[(train_data['calories']-dinner_recipe).abs().argsort()[0]]['title']\n",
        "    total_calories = breakfast_calories + lunch_calories + dinner_calories\n",
        "\n",
        "\n",
        "\n",
        "# print the selected recipes and their total calories\n",
        "print(f\"Breakfast recipe name: {breakfast_title}, {breakfast_recipe} calories\")\n",
        "print(f\"Lunch recipe name: {lunch_title},{lunch_calories} calories)\")\n",
        "print(f\"Dinner recipe: {dinner_title}, {dinner_calories} calories)\")\n",
        "print(f\"Total calories: {total_calories}\")"
      ],
      "metadata": {
        "id": "SLDam74AFcRX",
        "outputId": "a7a43cf9-968e-4fe3-85d1-0ff9694ca412",
        "colab": {
          "base_uri": "https://localhost:8080/"
        }
      },
      "execution_count": null,
      "outputs": [
        {
          "output_type": "stream",
          "name": "stdout",
          "text": [
            "Breakfast recipe name: Agnolotti with Meat and Spinach Filling , 519.3902278513469 calories\n",
            "Lunch recipe name: Anasazi Butternut Squash Soup with Chorizo and Pepitas ,568 calories)\n",
            "Dinner recipe: Almond-Crusted Goat Cheese Salad with Raspberry Dressing , 871 calories)\n",
            "Total calories: 1929\n"
          ]
        },
        {
          "output_type": "stream",
          "name": "stderr",
          "text": [
            "/usr/local/lib/python3.10/dist-packages/sklearn/base.py:439: UserWarning: X does not have valid feature names, but MLPRegressor was fitted with feature names\n",
            "  warnings.warn(\n",
            "/usr/local/lib/python3.10/dist-packages/sklearn/base.py:439: UserWarning: X does not have valid feature names, but MLPRegressor was fitted with feature names\n",
            "  warnings.warn(\n",
            "/usr/local/lib/python3.10/dist-packages/sklearn/base.py:439: UserWarning: X does not have valid feature names, but MLPRegressor was fitted with feature names\n",
            "  warnings.warn(\n"
          ]
        }
      ]
    },
    {
      "cell_type": "code",
      "source": [
        "import numpy as np\n",
        "import pandas as pd\n",
        "import matplotlib.pyplot as plt\n",
        "from sklearn.tree import DecisionTreeClassifier\n",
        "from sklearn.neural_network import MLPClassifier\n",
        "\n",
        "# load the dataset\n",
        "data = pd.read_csv('Nutriv.csv')\n",
        "\n",
        "# split the dataset into training and testing datasets\n",
        "train_data = data.iloc[:80, :]\n",
        "test_data = data.iloc[80:, :]\n",
        "\n",
        "# create the decision tree model\n",
        "\n",
        "tree_accuracy = tree_model.score(test_data[features], test_data['calories'])\n",
        "\n",
        "# create the neural network model\n",
        "nn_model = MLPRegressor(hidden_layer_sizes=(10, 5), max_iter=10000)\n",
        "\n",
        "nn_model.fit(X_train, y_train)\n",
        "nn_accuracy = nn_model.score(test_data[features], test_data['calories'])\n",
        "\n",
        "# create the line graph\n",
        "x_values = ['Decision Tree', 'Neural Network']\n",
        "y_values = [tree_accuracy, nn_accuracy]\n",
        "plt.plot(x_values, y_values, '-o')\n",
        "plt.title('Accuracy Comparison')\n",
        "plt.xlabel('Model')\n",
        "plt.ylabel('Accuracy')\n",
        "plt.ylim(0, 1)\n",
        "plt.show()\n"
      ],
      "metadata": {
        "id": "EDasMgm9dgZW",
        "outputId": "6d3d9c6a-bc15-4813-f3bc-8ffe0eb2e4ea",
        "colab": {
          "base_uri": "https://localhost:8080/",
          "height": 472
        }
      },
      "execution_count": null,
      "outputs": [
        {
          "output_type": "display_data",
          "data": {
            "text/plain": [
              "<Figure size 640x480 with 1 Axes>"
            ],
            "image/png": "[encoded data removed]"
          },
          "metadata": {}
        }
      ]
    },
    {
      "cell_type": "code",
      "source": [],
      "metadata": {
        "id": "kTmkvF_mHwJv"
      },
      "execution_count": null,
      "outputs": []
    },
    {
      "cell_type": "code",
      "source": [],
      "metadata": {
        "id": "rwe9RooGJOlC"
      },
      "execution_count": null,
      "outputs": []
    },
    {
      "cell_type": "markdown",
      "source": [
        "ROOT MEAN SQUARE\n"
      ],
      "metadata": {
        "id": "TTWfsTyqOJMs"
      }
    },
    {
      "cell_type": "code",
      "source": [
        "import numpy as np\n",
        "import pandas as pd\n",
        "from sklearn.neural_network import MLPRegressor\n",
        "from sklearn.metrics import mean_squared_error\n",
        "\n",
        "# Load the nutrition dataset\n",
        "data = pd.read_csv('Nutriv.csv')\n",
        "\n",
        "# Filter the dataset to include only breakfast, lunch, and dinner recipes\n",
        "data = data[['calories', 'breakfast', 'lunch', 'dinner']]\n",
        "data = data[data[['breakfast', 'lunch', 'dinner']].apply(lambda x: x.isin([0, 1]).all(), axis=1)]\n",
        "\n",
        "# Split the dataset into training and testing datasets\n",
        "train_data = data.iloc[:80, :]\n",
        "test_data = data.iloc[80:, :]\n",
        "\n",
        "# Define the neural network model\n",
        "model = MLPRegressor(hidden_layer_sizes=(10, 5), max_iter=10000)\n",
        "\n",
        "# Train the neural network model\n",
        "features = ['calories', 'breakfast', 'lunch', 'dinner']\n",
        "X_train = train_data[features]\n",
        "y_train = train_data['calories']\n",
        "model.fit(X_train, y_train)\n",
        "\n",
        "# Evaluate the performance of the model on the test set\n",
        "X_test = test_data[features]\n",
        "y_test = test_data['calories']\n",
        "y_pred = model.predict(X_test)\n",
        "rmse = np.sqrt(mean_squared_error(y_test, y_pred))\n",
        "\n",
        "# Print the RMSE score\n",
        "print(f\"Root Mean Squared Error: {rmse}\")\n"
      ],
      "metadata": {
        "colab": {
          "base_uri": "https://localhost:8080/"
        },
        "id": "wZqWjyYhOMPR",
        "outputId": "03a3b169-8dac-4442-8992-1e91b6966057"
      },
      "execution_count": null,
      "outputs": [
        {
          "output_type": "stream",
          "name": "stdout",
          "text": [
            "Root Mean Squared Error: 20.678626965414633\n"
          ]
        }
      ]
    },
    {
      "cell_type": "code",
      "source": [
        "import time\n",
        "import numpy as np\n",
        "import pandas as pd\n",
        "from sklearn.tree import DecisionTreeClassifier\n",
        "from sklearn.neural_network import MLPClassifier\n",
        "\n",
        "# Load and preprocess data\n",
        "data = pd.read_csv('Nutriv.csv')\n",
        "X = data.iloc[:, :-1]\n",
        "y = data.iloc[:, -1]\n",
        "\n",
        "# Decision tree model\n",
        "start_time = time.time()\n",
        "tree_model = DecisionTreeClassifier()\n",
        "tree_model.fit(X, y)\n",
        "tree_train_time = time.time() - start_time\n",
        "\n",
        "# Neural network model\n",
        "start_time = time.time()\n",
        "nn_model = MLPClassifier(hidden_layer_sizes=(100,50), max_iter=500)\n",
        "nn_model.fit(X, y)\n",
        "nn_train_time = time.time() - start_time\n",
        "\n",
        "# Plot bar chart\n",
        "import matplotlib.pyplot as plt\n",
        "\n",
        "model_names = ['Decision Tree', 'Neural Network']\n",
        "train_times = [tree_train_time, nn_train_time]\n",
        "\n",
        "plt.bar(model_names, train_times)\n",
        "plt.ylabel('Training time (seconds)')\n",
        "plt.title('Comparison of training time between decision tree and neural network')\n",
        "plt.show()\n"
      ],
      "metadata": {
        "colab": {
          "base_uri": "https://localhost:8080/",
          "height": 393
        },
        "id": "wOxdE80GOOx8",
        "outputId": "db4708fe-b93b-4cf7-bfbc-039c94de99cb"
      },
      "execution_count": null,
      "outputs": [
        {
          "output_type": "error",
          "ename": "ValueError",
          "evalue": "ignored",
          "traceback": [
            "\u001b[0;31m---------------------------------------------------------------------------\u001b[0m",
            "\u001b[0;31mValueError\u001b[0m                                Traceback (most recent call last)",
            "\u001b[0;32m<ipython-input-16-c9dfd6dbe983>\u001b[0m in \u001b[0;36m<cell line: 15>\u001b[0;34m()\u001b[0m\n\u001b[1;32m     13\u001b[0m \u001b[0mstart_time\u001b[0m \u001b[0;34m=\u001b[0m \u001b[0mtime\u001b[0m\u001b[0;34m.\u001b[0m\u001b[0mtime\u001b[0m\u001b[0;34m(\u001b[0m\u001b[0;34m)\u001b[0m\u001b[0;34m\u001b[0m\u001b[0;34m\u001b[0m\u001b[0m\n\u001b[1;32m     14\u001b[0m \u001b[0mtree_model\u001b[0m \u001b[0;34m=\u001b[0m \u001b[0mDecisionTreeClassifier\u001b[0m\u001b[0;34m(\u001b[0m\u001b[0;34m)\u001b[0m\u001b[0;34m\u001b[0m\u001b[0;34m\u001b[0m\u001b[0m\n\u001b[0;32m---> 15\u001b[0;31m \u001b[0mtree_model\u001b[0m\u001b[0;34m.\u001b[0m\u001b[0mfit\u001b[0m\u001b[0;34m(\u001b[0m\u001b[0mX\u001b[0m\u001b[0;34m,\u001b[0m \u001b[0my\u001b[0m\u001b[0;34m)\u001b[0m\u001b[0;34m\u001b[0m\u001b[0;34m\u001b[0m\u001b[0m\n\u001b[0m\u001b[1;32m     16\u001b[0m \u001b[0mtree_train_time\u001b[0m \u001b[0;34m=\u001b[0m \u001b[0mtime\u001b[0m\u001b[0;34m.\u001b[0m\u001b[0mtime\u001b[0m\u001b[0;34m(\u001b[0m\u001b[0;34m)\u001b[0m \u001b[0;34m-\u001b[0m \u001b[0mstart_time\u001b[0m\u001b[0;34m\u001b[0m\u001b[0;34m\u001b[0m\u001b[0m\n\u001b[1;32m     17\u001b[0m \u001b[0;34m\u001b[0m\u001b[0m\n",
            "\u001b[0;32m/usr/local/lib/python3.10/dist-packages/sklearn/tree/_classes.py\u001b[0m in \u001b[0;36mfit\u001b[0;34m(self, X, y, sample_weight, check_input)\u001b[0m\n\u001b[1;32m    887\u001b[0m         \"\"\"\n\u001b[1;32m    888\u001b[0m \u001b[0;34m\u001b[0m\u001b[0m\n\u001b[0;32m--> 889\u001b[0;31m         super().fit(\n\u001b[0m\u001b[1;32m    890\u001b[0m             \u001b[0mX\u001b[0m\u001b[0;34m,\u001b[0m\u001b[0;34m\u001b[0m\u001b[0;34m\u001b[0m\u001b[0m\n\u001b[1;32m    891\u001b[0m             \u001b[0my\u001b[0m\u001b[0;34m,\u001b[0m\u001b[0;34m\u001b[0m\u001b[0;34m\u001b[0m\u001b[0m\n",
            "\u001b[0;32m/usr/local/lib/python3.10/dist-packages/sklearn/tree/_classes.py\u001b[0m in \u001b[0;36mfit\u001b[0;34m(self, X, y, sample_weight, check_input)\u001b[0m\n\u001b[1;32m    184\u001b[0m             \u001b[0mcheck_X_params\u001b[0m \u001b[0;34m=\u001b[0m \u001b[0mdict\u001b[0m\u001b[0;34m(\u001b[0m\u001b[0mdtype\u001b[0m\u001b[0;34m=\u001b[0m\u001b[0mDTYPE\u001b[0m\u001b[0;34m,\u001b[0m \u001b[0maccept_sparse\u001b[0m\u001b[0;34m=\u001b[0m\u001b[0;34m\"csc\"\u001b[0m\u001b[0;34m)\u001b[0m\u001b[0;34m\u001b[0m\u001b[0;34m\u001b[0m\u001b[0m\n\u001b[1;32m    185\u001b[0m             \u001b[0mcheck_y_params\u001b[0m \u001b[0;34m=\u001b[0m \u001b[0mdict\u001b[0m\u001b[0;34m(\u001b[0m\u001b[0mensure_2d\u001b[0m\u001b[0;34m=\u001b[0m\u001b[0;32mFalse\u001b[0m\u001b[0;34m,\u001b[0m \u001b[0mdtype\u001b[0m\u001b[0;34m=\u001b[0m\u001b[0;32mNone\u001b[0m\u001b[0;34m)\u001b[0m\u001b[0;34m\u001b[0m\u001b[0;34m\u001b[0m\u001b[0m\n\u001b[0;32m--> 186\u001b[0;31m             X, y = self._validate_data(\n\u001b[0m\u001b[1;32m    187\u001b[0m                 \u001b[0mX\u001b[0m\u001b[0;34m,\u001b[0m \u001b[0my\u001b[0m\u001b[0;34m,\u001b[0m \u001b[0mvalidate_separately\u001b[0m\u001b[0;34m=\u001b[0m\u001b[0;34m(\u001b[0m\u001b[0mcheck_X_params\u001b[0m\u001b[0;34m,\u001b[0m \u001b[0mcheck_y_params\u001b[0m\u001b[0;34m)\u001b[0m\u001b[0;34m\u001b[0m\u001b[0;34m\u001b[0m\u001b[0m\n\u001b[1;32m    188\u001b[0m             )\n",
            "\u001b[0;32m/usr/local/lib/python3.10/dist-packages/sklearn/base.py\u001b[0m in \u001b[0;36m_validate_data\u001b[0;34m(self, X, y, reset, validate_separately, **check_params)\u001b[0m\n\u001b[1;32m    577\u001b[0m                 \u001b[0;32mif\u001b[0m \u001b[0;34m\"estimator\"\u001b[0m \u001b[0;32mnot\u001b[0m \u001b[0;32min\u001b[0m \u001b[0mcheck_X_params\u001b[0m\u001b[0;34m:\u001b[0m\u001b[0;34m\u001b[0m\u001b[0;34m\u001b[0m\u001b[0m\n\u001b[1;32m    578\u001b[0m                     \u001b[0mcheck_X_params\u001b[0m \u001b[0;34m=\u001b[0m \u001b[0;34m{\u001b[0m\u001b[0;34m**\u001b[0m\u001b[0mdefault_check_params\u001b[0m\u001b[0;34m,\u001b[0m \u001b[0;34m**\u001b[0m\u001b[0mcheck_X_params\u001b[0m\u001b[0;34m}\u001b[0m\u001b[0;34m\u001b[0m\u001b[0;34m\u001b[0m\u001b[0m\n\u001b[0;32m--> 579\u001b[0;31m                 \u001b[0mX\u001b[0m \u001b[0;34m=\u001b[0m \u001b[0mcheck_array\u001b[0m\u001b[0;34m(\u001b[0m\u001b[0mX\u001b[0m\u001b[0;34m,\u001b[0m \u001b[0minput_name\u001b[0m\u001b[0;34m=\u001b[0m\u001b[0;34m\"X\"\u001b[0m\u001b[0;34m,\u001b[0m \u001b[0;34m**\u001b[0m\u001b[0mcheck_X_params\u001b[0m\u001b[0;34m)\u001b[0m\u001b[0;34m\u001b[0m\u001b[0;34m\u001b[0m\u001b[0m\n\u001b[0m\u001b[1;32m    580\u001b[0m                 \u001b[0;32mif\u001b[0m \u001b[0;34m\"estimator\"\u001b[0m \u001b[0;32mnot\u001b[0m \u001b[0;32min\u001b[0m \u001b[0mcheck_y_params\u001b[0m\u001b[0;34m:\u001b[0m\u001b[0;34m\u001b[0m\u001b[0;34m\u001b[0m\u001b[0m\n\u001b[1;32m    581\u001b[0m                     \u001b[0mcheck_y_params\u001b[0m \u001b[0;34m=\u001b[0m \u001b[0;34m{\u001b[0m\u001b[0;34m**\u001b[0m\u001b[0mdefault_check_params\u001b[0m\u001b[0;34m,\u001b[0m \u001b[0;34m**\u001b[0m\u001b[0mcheck_y_params\u001b[0m\u001b[0;34m}\u001b[0m\u001b[0;34m\u001b[0m\u001b[0;34m\u001b[0m\u001b[0m\n",
            "\u001b[0;32m/usr/local/lib/python3.10/dist-packages/sklearn/utils/validation.py\u001b[0m in \u001b[0;36mcheck_array\u001b[0;34m(array, accept_sparse, accept_large_sparse, dtype, order, copy, force_all_finite, ensure_2d, allow_nd, ensure_min_samples, ensure_min_features, estimator, input_name)\u001b[0m\n\u001b[1;32m    877\u001b[0m                     \u001b[0marray\u001b[0m \u001b[0;34m=\u001b[0m \u001b[0mxp\u001b[0m\u001b[0;34m.\u001b[0m\u001b[0mastype\u001b[0m\u001b[0;34m(\u001b[0m\u001b[0marray\u001b[0m\u001b[0;34m,\u001b[0m \u001b[0mdtype\u001b[0m\u001b[0;34m,\u001b[0m \u001b[0mcopy\u001b[0m\u001b[0;34m=\u001b[0m\u001b[0;32mFalse\u001b[0m\u001b[0;34m)\u001b[0m\u001b[0;34m\u001b[0m\u001b[0;34m\u001b[0m\u001b[0m\n\u001b[1;32m    878\u001b[0m                 \u001b[0;32melse\u001b[0m\u001b[0;34m:\u001b[0m\u001b[0;34m\u001b[0m\u001b[0;34m\u001b[0m\u001b[0m\n\u001b[0;32m--> 879\u001b[0;31m                     \u001b[0marray\u001b[0m \u001b[0;34m=\u001b[0m \u001b[0m_asarray_with_order\u001b[0m\u001b[0;34m(\u001b[0m\u001b[0marray\u001b[0m\u001b[0;34m,\u001b[0m \u001b[0morder\u001b[0m\u001b[0;34m=\u001b[0m\u001b[0morder\u001b[0m\u001b[0;34m,\u001b[0m \u001b[0mdtype\u001b[0m\u001b[0;34m=\u001b[0m\u001b[0mdtype\u001b[0m\u001b[0;34m,\u001b[0m \u001b[0mxp\u001b[0m\u001b[0;34m=\u001b[0m\u001b[0mxp\u001b[0m\u001b[0;34m)\u001b[0m\u001b[0;34m\u001b[0m\u001b[0;34m\u001b[0m\u001b[0m\n\u001b[0m\u001b[1;32m    880\u001b[0m             \u001b[0;32mexcept\u001b[0m \u001b[0mComplexWarning\u001b[0m \u001b[0;32mas\u001b[0m \u001b[0mcomplex_warning\u001b[0m\u001b[0;34m:\u001b[0m\u001b[0;34m\u001b[0m\u001b[0;34m\u001b[0m\u001b[0m\n\u001b[1;32m    881\u001b[0m                 raise ValueError(\n",
            "\u001b[0;32m/usr/local/lib/python3.10/dist-packages/sklearn/utils/_array_api.py\u001b[0m in \u001b[0;36m_asarray_with_order\u001b[0;34m(array, dtype, order, copy, xp)\u001b[0m\n\u001b[1;32m    183\u001b[0m     \u001b[0;32mif\u001b[0m \u001b[0mxp\u001b[0m\u001b[0;34m.\u001b[0m\u001b[0m__name__\u001b[0m \u001b[0;32min\u001b[0m \u001b[0;34m{\u001b[0m\u001b[0;34m\"numpy\"\u001b[0m\u001b[0;34m,\u001b[0m \u001b[0;34m\"numpy.array_api\"\u001b[0m\u001b[0;34m}\u001b[0m\u001b[0;34m:\u001b[0m\u001b[0;34m\u001b[0m\u001b[0;34m\u001b[0m\u001b[0m\n\u001b[1;32m    184\u001b[0m         \u001b[0;31m# Use NumPy API to support order\u001b[0m\u001b[0;34m\u001b[0m\u001b[0;34m\u001b[0m\u001b[0m\n\u001b[0;32m--> 185\u001b[0;31m         \u001b[0marray\u001b[0m \u001b[0;34m=\u001b[0m \u001b[0mnumpy\u001b[0m\u001b[0;34m.\u001b[0m\u001b[0masarray\u001b[0m\u001b[0;34m(\u001b[0m\u001b[0marray\u001b[0m\u001b[0;34m,\u001b[0m \u001b[0morder\u001b[0m\u001b[0;34m=\u001b[0m\u001b[0morder\u001b[0m\u001b[0;34m,\u001b[0m \u001b[0mdtype\u001b[0m\u001b[0;34m=\u001b[0m\u001b[0mdtype\u001b[0m\u001b[0;34m)\u001b[0m\u001b[0;34m\u001b[0m\u001b[0;34m\u001b[0m\u001b[0m\n\u001b[0m\u001b[1;32m    186\u001b[0m         \u001b[0;32mreturn\u001b[0m \u001b[0mxp\u001b[0m\u001b[0;34m.\u001b[0m\u001b[0masarray\u001b[0m\u001b[0;34m(\u001b[0m\u001b[0marray\u001b[0m\u001b[0;34m,\u001b[0m \u001b[0mcopy\u001b[0m\u001b[0;34m=\u001b[0m\u001b[0mcopy\u001b[0m\u001b[0;34m)\u001b[0m\u001b[0;34m\u001b[0m\u001b[0;34m\u001b[0m\u001b[0m\n\u001b[1;32m    187\u001b[0m     \u001b[0;32melse\u001b[0m\u001b[0;34m:\u001b[0m\u001b[0;34m\u001b[0m\u001b[0;34m\u001b[0m\u001b[0m\n",
            "\u001b[0;32m/usr/local/lib/python3.10/dist-packages/pandas/core/generic.py\u001b[0m in \u001b[0;36m__array__\u001b[0;34m(self, dtype)\u001b[0m\n\u001b[1;32m   2068\u001b[0m \u001b[0;34m\u001b[0m\u001b[0m\n\u001b[1;32m   2069\u001b[0m     \u001b[0;32mdef\u001b[0m \u001b[0m__array__\u001b[0m\u001b[0;34m(\u001b[0m\u001b[0mself\u001b[0m\u001b[0;34m,\u001b[0m \u001b[0mdtype\u001b[0m\u001b[0;34m:\u001b[0m \u001b[0mnpt\u001b[0m\u001b[0;34m.\u001b[0m\u001b[0mDTypeLike\u001b[0m \u001b[0;34m|\u001b[0m \u001b[0;32mNone\u001b[0m \u001b[0;34m=\u001b[0m \u001b[0;32mNone\u001b[0m\u001b[0;34m)\u001b[0m \u001b[0;34m->\u001b[0m \u001b[0mnp\u001b[0m\u001b[0;34m.\u001b[0m\u001b[0mndarray\u001b[0m\u001b[0;34m:\u001b[0m\u001b[0;34m\u001b[0m\u001b[0;34m\u001b[0m\u001b[0m\n\u001b[0;32m-> 2070\u001b[0;31m         \u001b[0;32mreturn\u001b[0m \u001b[0mnp\u001b[0m\u001b[0;34m.\u001b[0m\u001b[0masarray\u001b[0m\u001b[0;34m(\u001b[0m\u001b[0mself\u001b[0m\u001b[0;34m.\u001b[0m\u001b[0m_values\u001b[0m\u001b[0;34m,\u001b[0m \u001b[0mdtype\u001b[0m\u001b[0;34m=\u001b[0m\u001b[0mdtype\u001b[0m\u001b[0;34m)\u001b[0m\u001b[0;34m\u001b[0m\u001b[0;34m\u001b[0m\u001b[0m\n\u001b[0m\u001b[1;32m   2071\u001b[0m \u001b[0;34m\u001b[0m\u001b[0m\n\u001b[1;32m   2072\u001b[0m     def __array_wrap__(\n",
            "\u001b[0;31mValueError\u001b[0m: could not convert string to float: '\"Blanketed\" Eggplant '"
          ]
        }
      ]
    },
    {
      "cell_type": "code",
      "source": [
        "import time\n",
        "import numpy as np\n",
        "import pandas as pd\n",
        "from sklearn.neural_network import MLPRegressor\n",
        "from sklearn.tree import DecisionTreeClassifier\n",
        "\n",
        "# Load the nutrition dataset\n",
        "data = pd.read_csv('Nutriv.csv')\n",
        "\n",
        "# Filter the dataset to include only breakfast, lunch, and dinner recipes\n",
        "data = data[['calories', 'breakfast', 'lunch', 'dinner', 'title']]\n",
        "data = data[data[['breakfast', 'lunch', 'dinner']].apply(lambda x: x.isin([0, 1]).all(), axis=1)]\n",
        "\n",
        "# Split the dataset into training and testing datasets\n",
        "train_data = data.iloc[:80, :]\n",
        "test_data = data.iloc[80:, :]\n",
        "\n",
        "# Train MLPRegressor and time the training process\n",
        "features = ['calories', 'breakfast', 'lunch', 'dinner']\n",
        "X_train = train_data[features]\n",
        "y_train = train_data['calories']\n",
        "start_time = time.time()\n",
        "model = MLPRegressor(hidden_layer_sizes=(10, 5), max_iter=10000)\n",
        "model.fit(X_train, y_train)\n",
        "mlp_time = time.time() - start_time\n",
        "\n",
        "# Train DecisionTreeClassifier and time the training process\n",
        "X_train = train_data[features]\n",
        "y_train = train_data['calories']\n",
        "start_time = time.time()\n",
        "tree_model = DecisionTreeClassifier()\n",
        "tree_model.fit(X_train, y_train)\n",
        "tree_time = time.time() - start_time\n",
        "\n",
        "# Print the time taken for training each model\n",
        "print(f\"Time taken for training MLPRegressor: {mlp_time:.3f} seconds\")\n",
        "print(f\"Time taken for training DecisionTreeClassifier: {tree_time:.3f} seconds\")\n"
      ],
      "metadata": {
        "colab": {
          "base_uri": "https://localhost:8080/"
        },
        "id": "pDJ7kI9uP7mj",
        "outputId": "a75dffe9-d511-466e-8be1-03e06026772b"
      },
      "execution_count": null,
      "outputs": [
        {
          "output_type": "stream",
          "name": "stdout",
          "text": [
            "Time taken for training MLPRegressor: 0.124 seconds\n",
            "Time taken for training DecisionTreeClassifier: 0.003 seconds\n"
          ]
        }
      ]
    },
    {
      "cell_type": "code",
      "source": [
        "import time\n",
        "import numpy as np\n",
        "import pandas as pd\n",
        "from sklearn.neural_network import MLPRegressor\n",
        "from sklearn.tree import DecisionTreeClassifier\n",
        "\n",
        "# Load the nutrition dataset\n",
        "data = pd.read_csv('Nutriv.csv')\n",
        "\n",
        "# Filter the dataset to include only breakfast, lunch, and dinner recipes\n",
        "data = data[['calories', 'breakfast', 'lunch', 'dinner', 'title']]\n",
        "data = data[data[['breakfast', 'lunch', 'dinner']].apply(lambda x: x.isin([0, 1]).all(), axis=1)]\n",
        "\n",
        "# Split the dataset into training and testing datasets\n",
        "train_data = data.iloc[:80, :]\n",
        "test_data = data.iloc[80:, :]\n",
        "\n",
        "# Train MLPRegressor and time the training process\n",
        "features = ['calories', 'breakfast', 'lunch', 'dinner']\n",
        "X_train = train_data[features]\n",
        "y_train = train_data['calories']\n",
        "start_time = time.time()\n",
        "model = MLPRegressor(hidden_layer_sizes=(10, 5), max_iter=10000)\n",
        "model.fit(X_train, y_train)\n",
        "mlp_time = time.time() - start_time\n",
        "\n",
        "# Train DecisionTreeClassifier and time the training process\n",
        "X_train = train_data[features]\n",
        "y_train = train_data['calories']\n",
        "start_time = time.time()\n",
        "tree_model = DecisionTreeClassifier()\n",
        "tree_model.fit(X_train, y_train)\n",
        "tree_time = time.time() - start_time\n",
        "\n",
        "# Print the time taken for training each model\n",
        "print(f\"Time taken for training MLPRegressor: {mlp_time:.3f} seconds\")\n",
        "print(f\"Time taken for training DecisionTreeClassifier: {tree_time:.3f} seconds\")\n"
      ],
      "metadata": {
        "colab": {
          "base_uri": "https://localhost:8080/"
        },
        "id": "EgBI1_klZbgs",
        "outputId": "595cc380-deee-4d7d-fd11-2a2d39d6eaec"
      },
      "execution_count": null,
      "outputs": [
        {
          "output_type": "stream",
          "name": "stdout",
          "text": [
            "Time taken for training MLPRegressor: 0.191 seconds\n",
            "Time taken for training DecisionTreeClassifier: 0.003 seconds\n"
          ]
        }
      ]
    },
    {
      "cell_type": "code",
      "source": [
        "import time\n",
        "import numpy as np\n",
        "import pandas as pd\n",
        "from sklearn.neural_network import MLPRegressor\n",
        "from sklearn.tree import DecisionTreeClassifier\n",
        "\n",
        "# Load the nutrition dataset\n",
        "data = pd.read_csv('Nutriv.csv')\n",
        "\n",
        "# Filter the dataset to include only breakfast, lunch, and dinner recipes\n",
        "data = data[['calories', 'breakfast', 'lunch', 'dinner', 'title']]\n",
        "data = data[data[['breakfast', 'lunch', 'dinner']].apply(lambda x: x.isin([0, 1]).all(), axis=1)]\n",
        "\n",
        "# Split the dataset into training and testing datasets\n",
        "train_data = data.iloc[:80, :]\n",
        "test_data = data.iloc[80:, :]\n",
        "\n",
        "# Train MLPRegressor and time the training process\n",
        "features = ['calories', 'breakfast', 'lunch', 'dinner']\n",
        "X_train = train_data[features]\n",
        "y_train = train_data['calories']\n",
        "start_time = time.time()\n",
        "model = MLPRegressor(hidden_layer_sizes=(10, 5), max_iter=10000)\n",
        "model.fit(X_train, y_train)\n",
        "mlp_time = time.time() - start_time\n",
        "\n",
        "# Train DecisionTreeClassifier and time the training process\n",
        "X_train = train_data[features]\n",
        "y_train = train_data['calories']\n",
        "start_time = time.time()\n",
        "tree_model = DecisionTreeClassifier()\n",
        "tree_model.fit(X_train, y_train)\n",
        "tree_time = time.time() - start_time\n",
        "\n",
        "# Print the time taken for training each model\n",
        "print(f\"Time taken for training MLPRegressor: {mlp_time:.3f} seconds\")\n",
        "print(f\"Time taken for training DecisionTreeClassifier: {tree_time:.3f} seconds\")\n"
      ],
      "metadata": {
        "colab": {
          "base_uri": "https://localhost:8080/"
        },
        "id": "Hcen_tKyZfoh",
        "outputId": "2e2ee346-fa87-4e87-c3e3-2687920f7715"
      },
      "execution_count": null,
      "outputs": [
        {
          "output_type": "stream",
          "name": "stdout",
          "text": [
            "Time taken for training MLPRegressor: 0.213 seconds\n",
            "Time taken for training DecisionTreeClassifier: 0.002 seconds\n"
          ]
        }
      ]
    },
    {
      "cell_type": "code",
      "source": [
        "import time\n",
        "import numpy as np\n",
        "import pandas as pd\n",
        "from sklearn.neural_network import MLPRegressor\n",
        "from sklearn.tree import DecisionTreeClassifier\n",
        "\n",
        "# Load the nutrition dataset\n",
        "data = pd.read_csv('Nutriv.csv')\n",
        "\n",
        "# Filter the dataset to include only breakfast, lunch, and dinner recipes\n",
        "data = data[['calories', 'breakfast', 'lunch', 'dinner', 'title']]\n",
        "data = data[data[['breakfast', 'lunch', 'dinner']].apply(lambda x: x.isin([0, 1]).all(), axis=1)]\n",
        "\n",
        "# Split the dataset into training and testing datasets\n",
        "train_data = data.iloc[:80, :]\n",
        "test_data = data.iloc[80:, :]\n",
        "\n",
        "# Train MLPRegressor and time the training process\n",
        "features = ['calories', 'breakfast', 'lunch', 'dinner']\n",
        "X_train = train_data[features]\n",
        "y_train = train_data['calories']\n",
        "start_time = time.time()\n",
        "model = MLPRegressor(hidden_layer_sizes=(10, 5), max_iter=10000)\n",
        "model.fit(X_train, y_train)\n",
        "mlp_time = time.time() - start_time\n",
        "\n",
        "# Train DecisionTreeClassifier and time the training process\n",
        "X_train = train_data[features]\n",
        "y_train = train_data['calories']\n",
        "start_time = time.time()\n",
        "tree_model = DecisionTreeClassifier()\n",
        "tree_model.fit(X_train, y_train)\n",
        "tree_time = time.time() - start_time\n",
        "\n",
        "# Print the time taken for training each model\n",
        "print(f\"Time taken for training MLPRegressor: {mlp_time:.3f} seconds\")\n",
        "print(f\"Time taken for training DecisionTreeClassifier: {tree_time:.3f} seconds\")\n"
      ],
      "metadata": {
        "colab": {
          "base_uri": "https://localhost:8080/"
        },
        "id": "o4u0wEhPZlDR",
        "outputId": "2ff89f77-0a07-47c2-ad1c-27c43860db47"
      },
      "execution_count": null,
      "outputs": [
        {
          "output_type": "stream",
          "name": "stdout",
          "text": [
            "Time taken for training MLPRegressor: 0.132 seconds\n",
            "Time taken for training DecisionTreeClassifier: 0.002 seconds\n"
          ]
        }
      ]
    },
    {
      "cell_type": "code",
      "source": [
        "import time\n",
        "import numpy as np\n",
        "import pandas as pd\n",
        "from sklearn.neural_network import MLPRegressor\n",
        "from sklearn.tree import DecisionTreeClassifier\n",
        "import random\n",
        "\n",
        "# Load the nutrition dataset\n",
        "data = pd.read_csv('Nutriv.csv')\n",
        "\n",
        "# Filter the dataset to include only breakfast, lunch, and dinner recipes\n",
        "data = data[['calories', 'breakfast', 'lunch', 'dinner', 'title']]\n",
        "data = data[data[['breakfast', 'lunch', 'dinner']].apply(lambda x: x.isin([0, 1]).all(), axis=1)]\n",
        "\n",
        "# Split the dataset into training and testing datasets\n",
        "train_data = data.iloc[:80, :]\n",
        "test_data = data.iloc[80:, :]\n",
        "\n",
        "# Define the neural network model\n",
        "nn_model = MLPRegressor(hidden_layer_sizes=(10, 5), max_iter=10000)\n",
        "\n",
        "# Train the neural network model\n",
        "features = ['calories', 'breakfast', 'lunch', 'dinner']\n",
        "X_train = train_data[features]\n",
        "y_train = train_data['calories']\n",
        "start_time_nn = time.time()\n",
        "nn_model.fit(X_train, y_train)\n",
        "end_time_nn = time.time()\n",
        "\n",
        "# Define the decision tree model\n",
        "dt_model = DecisionTreeClassifier()\n",
        "\n",
        "# Train the decision tree model\n",
        "features = ['calories', 'breakfast', 'lunch', 'dinner']\n",
        "X_train = train_data[features]\n",
        "y_train = train_data['calories']\n",
        "start_time_dt = time.time()\n",
        "dt_model.fit(X_train, y_train)\n",
        "end_time_dt = time.time()\n",
        "\n",
        "# Print the execution times\n",
        "print(f\"Neural Network Model execution time: {end_time_nn - start_time_nn:.6f} seconds\")\n",
        "print(f\"Decision Tree Model execution time: {end_time_dt - start_time_dt:.6f} seconds\")\n"
      ],
      "metadata": {
        "colab": {
          "base_uri": "https://localhost:8080/"
        },
        "id": "49KZdw8bZp_3",
        "outputId": "0da6dd96-89ec-40c9-e70b-2cea200e5fa2"
      },
      "execution_count": null,
      "outputs": [
        {
          "output_type": "stream",
          "name": "stdout",
          "text": [
            "Neural Network Model execution time: 0.204540 seconds\n",
            "Decision Tree Model execution time: 0.002313 seconds\n"
          ]
        }
      ]
    },
    {
      "cell_type": "code",
      "source": [
        "import time\n",
        "import numpy as np\n",
        "import pandas as pd\n",
        "from sklearn.neural_network import MLPRegressor\n",
        "from sklearn.tree import DecisionTreeClassifier\n",
        "import random\n",
        "\n",
        "# Load the nutrition dataset\n",
        "data = pd.read_csv('Nutriv.csv')\n",
        "\n",
        "# Filter the dataset to include only breakfast, lunch, and dinner recipes\n",
        "data = data[['calories', 'breakfast', 'lunch', 'dinner', 'title']]\n",
        "data = data[data[['breakfast', 'lunch', 'dinner']].apply(lambda x: x.isin([0, 1]).all(), axis=1)]\n",
        "\n",
        "# Split the dataset into training and testing datasets\n",
        "train_data = data.iloc[:80, :]\n",
        "test_data = data.iloc[80:, :]\n",
        "\n",
        "# Define the neural network model\n",
        "nn_model = MLPRegressor(hidden_layer_sizes=(10, 5), max_iter=10000)\n",
        "\n",
        "# Train the neural network model\n",
        "features = ['calories', 'breakfast', 'lunch', 'dinner']\n",
        "X_train = train_data[features]\n",
        "y_train = train_data['calories']\n",
        "start_time_nn = time.time()\n",
        "nn_model.fit(X_train, y_train)\n",
        "end_time_nn = time.time()\n",
        "\n",
        "# Define the decision tree model\n",
        "dt_model = DecisionTreeClassifier()\n",
        "\n",
        "# Train the decision tree model\n",
        "features = ['calories', 'breakfast', 'lunch', 'dinner']\n",
        "X_train = train_data[features]\n",
        "y_train = train_data['calories']\n",
        "start_time_dt = time.time()\n",
        "dt_model.fit(X_train, y_train)\n",
        "end_time_dt = time.time()\n",
        "\n",
        "# Print the execution times\n",
        "print(f\"Neural Network Model execution time: {end_time_nn - start_time_nn:.6f} seconds\")\n",
        "print(f\"Decision Tree Model execution time: {end_time_dt - start_time_dt:.6f} seconds\")\n"
      ],
      "metadata": {
        "colab": {
          "base_uri": "https://localhost:8080/"
        },
        "id": "qUPC6r8abB_F",
        "outputId": "a9b9f513-6672-47cc-f4f3-7a893c03bec9"
      },
      "execution_count": null,
      "outputs": [
        {
          "output_type": "stream",
          "name": "stdout",
          "text": [
            "Neural Network Model execution time: 0.035843 seconds\n",
            "Decision Tree Model execution time: 0.002289 seconds\n"
          ]
        }
      ]
    },
    {
      "cell_type": "code",
      "source": [
        "import time\n",
        "import numpy as np\n",
        "import pandas as pd\n",
        "from sklearn.neural_network import MLPRegressor\n",
        "from sklearn.tree import DecisionTreeClassifier\n",
        "import random\n",
        "\n",
        "# Load the nutrition dataset\n",
        "data = pd.read_csv('Nutriv.csv')\n",
        "\n",
        "# Filter the dataset to include only breakfast, lunch, and dinner recipes\n",
        "data = data[['calories', 'breakfast', 'lunch', 'dinner', 'title']]\n",
        "data = data[data[['breakfast', 'lunch', 'dinner']].apply(lambda x: x.isin([0, 1]).all(), axis=1)]\n",
        "\n",
        "# Split the dataset into training and testing datasets\n",
        "train_data = data.iloc[:80, :]\n",
        "test_data = data.iloc[80:, :]\n",
        "\n",
        "# Define the neural network model\n",
        "nn_model = MLPRegressor(hidden_layer_sizes=(10, 5), max_iter=10000)\n",
        "\n",
        "# Train the neural network model\n",
        "features = ['calories', 'breakfast', 'lunch', 'dinner']\n",
        "X_train = train_data[features]\n",
        "y_train = train_data['calories']\n",
        "start_time_nn = time.time()\n",
        "nn_model.fit(X_train, y_train)\n",
        "end_time_nn = time.time()\n",
        "\n",
        "# Define the decision tree model\n",
        "dt_model = DecisionTreeClassifier()\n",
        "\n",
        "# Train the decision tree model\n",
        "features = ['calories', 'breakfast', 'lunch', 'dinner']\n",
        "X_train = train_data[features]\n",
        "y_train = train_data['calories']\n",
        "start_time_dt = time.time()\n",
        "dt_model.fit(X_train, y_train)\n",
        "end_time_dt = time.time()\n",
        "\n",
        "# Print the execution times\n",
        "print(f\"Neural Network Model execution time: {end_time_nn - start_time_nn:.6f} seconds\")\n",
        "print(f\"Decision Tree Model execution time: {end_time_dt - start_time_dt:.6f} seconds\")\n"
      ],
      "metadata": {
        "colab": {
          "base_uri": "https://localhost:8080/"
        },
        "id": "yYuwCAsKbFaL",
        "outputId": "a6ae5f7a-8025-43f8-b1b0-96997d0cb0f6"
      },
      "execution_count": 25,
      "outputs": [
        {
          "output_type": "stream",
          "name": "stdout",
          "text": [
            "Neural Network Model execution time: 0.250711 seconds\n",
            "Decision Tree Model execution time: 0.002429 seconds\n"
          ]
        }
      ]
    },
    {
      "cell_type": "code",
      "source": [
        "import matplotlib.pyplot as plt\n",
        "\n",
        "# data for Neural Network Model\n",
        "nn_times = [0.239514, 0.035843, 0.204540, 0.254518, 0.250711 ]\n",
        "\n",
        "# data for Decision Tree Model\n",
        "dt_times = [0.002423, 0.002289, 0.002313, 0.004152, 0.002429 ]\n",
        "\n",
        "# create x-axis values for each data point\n",
        "x_values = [1, 2, 3, 4, 5]\n",
        "\n",
        "# plot the data using line graphs\n",
        "plt.plot(x_values, nn_times, color='blue', label='Neural Network Model')\n",
        "plt.plot(x_values, dt_times, color='green', label='Decision Tree Model')\n",
        "\n",
        "# set plot title, axis labels and legend\n",
        "plt.title('Execution times for two models')\n",
        "plt.xlabel('Execution times')\n",
        "plt.ylabel('Models')\n",
        "plt.legend()\n",
        "\n",
        "# display the plot\n",
        "plt.show()\n"
      ],
      "metadata": {
        "id": "STwFHvFhbHLU",
        "outputId": "37752c77-c213-4da5-dd5e-4683aaff8937",
        "colab": {
          "base_uri": "https://localhost:8080/",
          "height": 472
        }
      },
      "execution_count": 27,
      "outputs": [
        {
          "output_type": "display_data",
          "data": {
            "text/plain": [
              "<Figure size 640x480 with 1 Axes>"
            ],
            "image/png": "[encoded data removed]"
          },
          "metadata": {}
        }
      ]
    },
    {
      "cell_type": "code",
      "source": [],
      "metadata": {
        "id": "5MvlC4vynxIE"
      },
      "execution_count": null,
      "outputs": []
    }
  ]
}