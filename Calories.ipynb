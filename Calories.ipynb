{
 "cells": [
  {
   "cell_type": "code",
   "execution_count": 9,
   "id": "aa8d8dfb",
   "metadata": {},
   "outputs": [],
   "source": [
    "\n",
    "def count():\n",
    "    age = float(input('Age:\\n'))\n",
    "    weight = float(input('Weight:\\n'))\n",
    "    height = float(input('Height:\\n'))\n",
    "    Calories = (10*weight) + (6.25*height) - (5*age) + 5\n",
    "    print('Required calories without exercise to lose weight:', (Calories+75),' to ', (Calories+175),'kcal')\n",
    "    print('Required calories without exercise to maintain weight:', (Calories+350),' to ', (Calories+550),'kcal')\n",
    "    print('Required calories without exercise to increase weight:', (Calories+720),' to ', (Calories+920),'kcal')\n"
   ]
  },
  {
   "cell_type": "code",
   "execution_count": 10,
   "id": "8638cb79",
   "metadata": {},
   "outputs": [
    {
     "name": "stdout",
     "output_type": "stream",
     "text": [
      "Age:\n",
      "18\n",
      "Weight:\n",
      "75\n",
      "Height:\n",
      "180\n",
      "Required calories without exercise to lose weight: 1865.0  to  1965.0 kcal\n",
      "Required calories without exercise to maintain weight: 2140.0  to  2340.0 kcal\n",
      "Required calories without exercise to increase weight: 2510.0  to  2710.0 kcal\n"
     ]
    }
   ],
   "source": [
    "count()"
   ]
  },
  {
   "cell_type": "code",
   "execution_count": 11,
   "id": "6decb1f4",
   "metadata": {},
   "outputs": [
    {
     "name": "stdout",
     "output_type": "stream",
     "text": [
      "Age:\n",
      "20\n",
      "Weight:\n",
      "80\n",
      "Height:\n",
      "182\n",
      "Required calories without exercise to lose weight: 1917.5  to  2017.5 kcal\n",
      "Required calories without exercise to maintain weight: 2192.5  to  2392.5 kcal\n",
      "Required calories without exercise to increase weight: 2562.5  to  2762.5 kcal\n"
     ]
    }
   ],
   "source": [
    "count()"
   ]
  },
  {
   "cell_type": "code",
   "execution_count": 12,
   "id": "ab9bc807",
   "metadata": {},
   "outputs": [],
   "source": [
    "\n",
    "def count1():\n",
    "    age = float(input('Age:\\n'))\n",
    "    weight = float(input('Weight:\\n'))\n",
    "    height = float(input('Height:\\n'))\n",
    "    Calories = (10*weight) + (6.25*height) - (5*age) + 5\n",
    "    print('Required calories with exercise to lose weight:', (Calories+795),' to ', (Calories+895),'kcal')\n",
    "    print('Required calories with exercise to maintain weight:', (Calories+1070),' to ', (Calories+1270),'kcal')\n",
    "    print('Required calories with exercise to increase weight:', (Calories+1445),' to ', (Calories+1645),'kcal')\n"
   ]
  },
  {
   "cell_type": "code",
   "execution_count": 13,
   "id": "32b42cfe",
   "metadata": {},
   "outputs": [
    {
     "name": "stdout",
     "output_type": "stream",
     "text": [
      "Age:\n",
      "18\n",
      "Weight:\n",
      "75\n",
      "Height:\n",
      "180\n",
      "Required calories with exercise to lose weight: 2585.0  to  2685.0 kcal\n",
      "Required calories with exercise to maintain weight: 2860.0  to  3060.0 kcal\n",
      "Required calories with exercise to increase weight: 3235.0  to  3435.0 kcal\n"
     ]
    }
   ],
   "source": [
    "count1()"
   ]
  },
  {
   "cell_type": "code",
   "execution_count": 14,
   "id": "b925b63d",
   "metadata": {},
   "outputs": [
    {
     "name": "stdout",
     "output_type": "stream",
     "text": [
      "Age:\n",
      "18\n",
      "Weight:\n",
      "80\n",
      "Height:\n",
      "182\n",
      "Required calories with exercise to lose weight: 2647.5  to  2747.5 kcal\n",
      "Required calories with exercise to maintain weight: 2922.5  to  3122.5 kcal\n",
      "Required calories with exercise to increase weight: 3297.5  to  3497.5 kcal\n"
     ]
    }
   ],
   "source": [
    "count1()"
   ]
  },
  {
   "cell_type": "code",
   "execution_count": 15,
   "id": "6e3a6090",
   "metadata": {},
   "outputs": [],
   "source": [
    "def count2():\n",
    "    print('female')\n",
    "    age = float(input('Age:\\n'))\n",
    "    weight = float(input('Weight:\\n'))\n",
    "    height = float(input('Height:\\n'))\n",
    "    Calories = (10*weight) + (6.25*height) - (5*age) - 161\n",
    "    print('Required calories with exercise to lose weight:', (Calories+595),' to ', (Calories+695),'kcal')\n",
    "    print('Required calories with exercise to maintain weight:', (Calories+870),' to ', (Calories+1070),'kcal')\n",
    "    print('Required calories with exercise to increase weight:', (Calories+1245),' to ', (Calories+1445),'kcal')"
   ]
  },
  {
   "cell_type": "code",
   "execution_count": 16,
   "id": "28b38935",
   "metadata": {},
   "outputs": [
    {
     "name": "stdout",
     "output_type": "stream",
     "text": [
      "female\n",
      "Age:\n",
      "18\n",
      "Weight:\n",
      "65\n",
      "Height:\n",
      "160\n",
      "Required calories with exercise to lose weight: 1994.0  to  2094.0 kcal\n",
      "Required calories with exercise to maintain weight: 2269.0  to  2469.0 kcal\n",
      "Required calories with exercise to increase weight: 2644.0  to  2844.0 kcal\n"
     ]
    }
   ],
   "source": [
    "count2()"
   ]
  },
  {
   "cell_type": "code",
   "execution_count": 17,
   "id": "523a7dc3",
   "metadata": {},
   "outputs": [
    {
     "name": "stdout",
     "output_type": "stream",
     "text": [
      "female\n",
      "Age:\n",
      "20\n",
      "Weight:\n",
      "70\n",
      "Height:\n",
      "163\n",
      "Required calories with exercise to lose weight: 2052.75  to  2152.75 kcal\n",
      "Required calories with exercise to maintain weight: 2327.75  to  2527.75 kcal\n",
      "Required calories with exercise to increase weight: 2702.75  to  2902.75 kcal\n"
     ]
    }
   ],
   "source": [
    "count2()"
   ]
  },
  {
   "cell_type": "code",
   "execution_count": 30,
   "id": "2a841089",
   "metadata": {},
   "outputs": [],
   "source": [
    "\n",
    "def count3():\n",
    "    print('female')\n",
    "    age = float(input('Age:\\n'))\n",
    "    weight = float(input('Weight:\\n'))\n",
    "    height = float(input('Height:\\n'))\n",
    "    Calories = (10*weight) + (6.25*height) - (5*age) -161\n",
    "    print('Required calories without exercise to lose weight:', (Calories),' to ', (Calories+100),'kcal')\n",
    "    print('Required calories without exercise to maintain weight:', (Calories+280),' to ', (Calories+480),'kcal')\n",
    "    print('Required calories without exercise to increase weight:', (Calories+640),' to ', (Calories+840),'kcal')"
   ]
  },
  {
   "cell_type": "code",
   "execution_count": 31,
   "id": "a6724abb",
   "metadata": {},
   "outputs": [
    {
     "name": "stdout",
     "output_type": "stream",
     "text": [
      "female\n",
      "Age:\n",
      "18\n",
      "Weight:\n",
      "65\n",
      "Height:\n",
      "160\n",
      "Required calories without exercise to lose weight: 1399.0  to  1499.0 kcal\n",
      "Required calories without exercise to maintain weight: 1679.0  to  1879.0 kcal\n",
      "Required calories without exercise to increase weight: 2039.0  to  2239.0 kcal\n"
     ]
    }
   ],
   "source": [
    "count3()"
   ]
  },
  {
   "cell_type": "code",
   "execution_count": 20,
   "id": "ee164a79",
   "metadata": {},
   "outputs": [
    {
     "name": "stdout",
     "output_type": "stream",
     "text": [
      "female\n",
      "Age:\n",
      "20\n",
      "Weight:\n",
      "70\n",
      "Height:\n",
      "162\n",
      "Required calories without exercise to lose weight: 1451.5  to  1551.5 kcal\n",
      "Required calories without exercise to maintain weight: 1731.5  to  1931.5 kcal\n",
      "Required calories without exercise to increase weight: 2091.5  to  2291.5 kcal\n"
     ]
    }
   ],
   "source": [
    "count3()"
   ]
  },
  {
   "cell_type": "code",
   "execution_count": 21,
   "id": "d37a64ec",
   "metadata": {},
   "outputs": [],
   "source": [
    "\n",
    "def count4():\n",
    "    age = float(input('Age:\\n'))\n",
    "    weight = float(input('Weight:\\n'))\n",
    "    height = float(input('Height:\\n'))\n",
    "    Calories = (10*weight) + (6.25*height) - (5*age) + 5\n",
    "    print('Required calories with moderate exercise to lose weight:', (Calories+315),' to ', (Calories+415),'kcal')\n",
    "    print('Required calories with moderate exercise to maintain weight:', (Calories+590),' to ', (Calories+790),'kcal')\n",
    "    print('Required calories with moderate exercise to increase weight:', (Calories+960),' to ', (Calories+1160),'kcal')\n"
   ]
  },
  {
   "cell_type": "code",
   "execution_count": 22,
   "id": "85040972",
   "metadata": {},
   "outputs": [
    {
     "name": "stdout",
     "output_type": "stream",
     "text": [
      "Age:\n",
      "18\n",
      "Weight:\n",
      "75\n",
      "Height:\n",
      "180\n",
      "Required calories with moderate exercise to lose weight: 2105.0  to  2205.0 kcal\n",
      "Required calories with moderate exercise to maintain weight: 2380.0  to  2580.0 kcal\n",
      "Required calories with moderate exercise to increase weight: 2750.0  to  2950.0 kcal\n"
     ]
    }
   ],
   "source": [
    "count4()"
   ]
  },
  {
   "cell_type": "code",
   "execution_count": 23,
   "id": "a2f1ec59",
   "metadata": {},
   "outputs": [
    {
     "name": "stdout",
     "output_type": "stream",
     "text": [
      "Age:\n",
      "30\n",
      "Weight:\n",
      "80\n",
      "Height:\n",
      "182\n",
      "Required calories with moderate exercise to lose weight: 2107.5  to  2207.5 kcal\n",
      "Required calories with moderate exercise to maintain weight: 2382.5  to  2582.5 kcal\n",
      "Required calories with moderate exercise to increase weight: 2752.5  to  2952.5 kcal\n"
     ]
    }
   ],
   "source": [
    "count4()"
   ]
  },
  {
   "cell_type": "code",
   "execution_count": 41,
   "id": "d6ec7d9a",
   "metadata": {},
   "outputs": [],
   "source": [
    "\n",
    "def count5():\n",
    "    print('female')\n",
    "    age = float(input('Age:\\n'))\n",
    "    weight = float(input('Weight:\\n'))\n",
    "    height = float(input('Height:\\n'))\n",
    "    Calories = (10*weight) + (6.25*height) - (5*age) -161\n",
    "    print('Required calories with moderate exercise to lose weight:', (Calories+164),' to ', (Calories+274),'kcal')\n",
    "    print('Required calories with moderate exercise to maintain weight:', (Calories+444),' to ', (Calories+644),'kcal')\n",
    "    print('Required calories with moderate exercise to increase weight:', (Calories+804),' to ', (Calories+1004),'kcal')"
   ]
  },
  {
   "cell_type": "code",
   "execution_count": 39,
   "id": "21805236",
   "metadata": {},
   "outputs": [
    {
     "name": "stdout",
     "output_type": "stream",
     "text": [
      "female\n",
      "Age:\n",
      "20\n",
      "Weight:\n",
      "67\n",
      "Height:\n",
      "162\n",
      "Required calories with moderate exercise to lose weight: 1595.5  to  1695.5 kcal\n",
      "Required calories with moderate exercise to maintain weight: 1875.5  to  2075.5 kcal\n",
      "Required calories with moderate exercise to increase weight: 2235.5  to  2435.5 kcal\n"
     ]
    }
   ],
   "source": [
    "count5()"
   ]
  },
  {
   "cell_type": "code",
   "execution_count": 40,
   "id": "9f6aceec",
   "metadata": {},
   "outputs": [
    {
     "name": "stdout",
     "output_type": "stream",
     "text": [
      "female\n",
      "Age:\n",
      "18\n",
      "Weight:\n",
      "65\n",
      "Height:\n",
      "160\n",
      "Required calories with moderate exercise to lose weight: 1573.0  to  1673.0 kcal\n",
      "Required calories with moderate exercise to maintain weight: 1853.0  to  2053.0 kcal\n",
      "Required calories with moderate exercise to increase weight: 2213.0  to  2413.0 kcal\n"
     ]
    }
   ],
   "source": [
    "count5()"
   ]
  },
  {
   "cell_type": "code",
   "execution_count": null,
   "id": "b0f6d111",
   "metadata": {},
   "outputs": [],
   "source": []
  }
 ],
 "metadata": {
  "kernelspec": {
   "display_name": "Python 3 (ipykernel)",
   "language": "python",
   "name": "python3"
  },
  "language_info": {
   "codemirror_mode": {
    "name": "ipython",
    "version": 3
   },
   "file_extension": ".py",
   "mimetype": "text/x-python",
   "name": "python",
   "nbconvert_exporter": "python",
   "pygments_lexer": "ipython3",
   "version": "3.9.7"
  }
 },
 "nbformat": 4,
 "nbformat_minor": 5
}
