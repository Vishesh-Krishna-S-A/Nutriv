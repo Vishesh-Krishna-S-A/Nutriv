{
 "cells": [
  {
   "cell_type": "code",
   "execution_count": 7,
   "id": "aa8d8dfb",
   "metadata": {},
   "outputs": [],
   "source": [
    "\n",
    "def count():\n",
    "    age = float(input('Age:\\n'))\n",
    "    weight = float(input('Weight:\\n'))\n",
    "    height = float(input('Height:\\n'))\n",
    "    Calories = (10*weight) + (6.25*height) - (5*age) + 5\n",
    "    print('Required calories without exercise to lose weight:', (Calories+75),' to ', (Calories+175),'kcal')\n",
    "    print('Required calories without exercise to maintain weight:', (Calories+350),' to ', (Calories+550),'kcal')\n",
    "    print('Required calories without exercise to increase weight:', (Calories+720),' to ', (Calories+920),'kcal')\n"
   ]
  },
  {
   "cell_type": "code",
   "execution_count": 8,
   "id": "8638cb79",
   "metadata": {},
   "outputs": [
    {
     "name": "stdout",
     "output_type": "stream",
     "text": [
      "Age:\n",
      "18\n",
      "Weight:\n",
      "75\n",
      "Height:\n",
      "180\n",
      "Required calories without exercise to lose weight: 1865.0  to  1965.0 kcal\n",
      "Required calories without exercise to maintain weight: 2140.0  to  2340.0 kcal\n",
      "Required calories without exercise to increase weight: 2510.0  to  2710.0 kcal\n"
     ]
    }
   ],
   "source": [
    "count()"
   ]
  },
  {
   "cell_type": "code",
   "execution_count": 9,
   "id": "6decb1f4",
   "metadata": {},
   "outputs": [
    {
     "name": "stdout",
     "output_type": "stream",
     "text": [
      "Age:\n",
      "20\n",
      "Weight:\n",
      "80\n",
      "Height:\n",
      "182\n",
      "Required calories without exercise to lose weight: 1917.5  to  2017.5 kcal\n",
      "Required calories without exercise to maintain weight: 2192.5  to  2392.5 kcal\n",
      "Required calories without exercise to increase weight: 2562.5  to  2762.5 kcal\n"
     ]
    }
   ],
   "source": [
    "count()"
   ]
  },
  {
   "cell_type": "code",
   "execution_count": 13,
   "id": "ab9bc807",
   "metadata": {},
   "outputs": [],
   "source": [
    "\n",
    "def count1():\n",
    "    age = float(input('Age:\\n'))\n",
    "    weight = float(input('Weight:\\n'))\n",
    "    height = float(input('Height:\\n'))\n",
    "    Calories = (10*weight) + (6.25*height) - (5*age) + 5\n",
    "    print('Required calories with exercise to lose weight:', (Calories+795),' to ', (Calories+895),'kcal')\n",
    "    print('Required calories with exercise to maintain weight:', (Calories+1070),' to ', (Calories+1270),'kcal')\n",
    "    print('Required calories with exercise to increase weight:', (Calories+1445),' to ', (Calories+1645),'kcal')\n"
   ]
  },
  {
   "cell_type": "code",
   "execution_count": 14,
   "id": "32b42cfe",
   "metadata": {},
   "outputs": [
    {
     "name": "stdout",
     "output_type": "stream",
     "text": [
      "Age:\n",
      "18\n",
      "Weight:\n",
      "75\n",
      "Height:\n",
      "180\n",
      "Required calories with exercise to lose weight: 2585.0  to  2685.0 kcal\n",
      "Required calories with exercise to maintain weight: 2860.0  to  3060.0 kcal\n",
      "Required calories with exercise to increase weight: 3235.0  to  3435.0 kcal\n"
     ]
    }
   ],
   "source": [
    "count1()"
   ]
  },
  {
   "cell_type": "code",
   "execution_count": 15,
   "id": "b925b63d",
   "metadata": {},
   "outputs": [
    {
     "name": "stdout",
     "output_type": "stream",
     "text": [
      "Age:\n",
      "20\n",
      "Weight:\n",
      "80\n",
      "Height:\n",
      "182\n",
      "Required calories with exercise to lose weight: 2637.5  to  2737.5 kcal\n",
      "Required calories with exercise to maintain weight: 2912.5  to  3112.5 kcal\n",
      "Required calories with exercise to increase weight: 3287.5  to  3487.5 kcal\n"
     ]
    }
   ],
   "source": [
    "count1()"
   ]
  },
  {
   "cell_type": "code",
   "execution_count": null,
   "id": "6e3a6090",
   "metadata": {},
   "outputs": [],
   "source": []
  }
 ],
 "metadata": {
  "kernelspec": {
   "display_name": "Python 3 (ipykernel)",
   "language": "python",
   "name": "python3"
  },
  "language_info": {
   "codemirror_mode": {
    "name": "ipython",
    "version": 3
   },
   "file_extension": ".py",
   "mimetype": "text/x-python",
   "name": "python",
   "nbconvert_exporter": "python",
   "pygments_lexer": "ipython3",
   "version": "3.9.7"
  }
 },
 "nbformat": 4,
 "nbformat_minor": 5
}
